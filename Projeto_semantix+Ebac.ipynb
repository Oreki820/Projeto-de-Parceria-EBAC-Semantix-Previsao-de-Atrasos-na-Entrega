{
  "nbformat": 4,
  "nbformat_minor": 0,
  "metadata": {
    "colab": {
      "provenance": [],
      "authorship_tag": "ABX9TyNvgL6rCFJxTKG/MaQOfFMr",
      "include_colab_link": true
    },
    "kernelspec": {
      "name": "python3",
      "display_name": "Python 3"
    },
    "language_info": {
      "name": "python"
    }
  },
  "cells": [
    {
      "cell_type": "markdown",
      "metadata": {
        "id": "view-in-github",
        "colab_type": "text"
      },
      "source": [
        "<a href=\"https://colab.research.google.com/github/Oreki820/Oreki820--Projeto-de-Parceria-EBAC-Semantix-Previsao-de-Atrasos-na-Entrega/blob/main/Projeto_semantix%2BEbac.ipynb\" target=\"_parent\"><img src=\"https://colab.research.google.com/assets/colab-badge.svg\" alt=\"Open In Colab\"/></a>"
      ]
    },
    {
      "cell_type": "markdown",
      "source": [
        "# 🪐 Projeto de Parceria EBAC + Semantix  \n",
        "## 📦 Previsão de Atrasos de Entrega — Base Olist (Kaggle)\n",
        "\n",
        "Este projeto foi desenvolvido como parte da **parceria EBAC–Semantix**, com o objetivo de aplicar um **pipeline completo de Ciência de Dados** a um caso real de e-commerce e logística.  \n",
        "\n",
        "O desafio consiste em **prever atrasos de entrega** de pedidos na base pública **Olist (Kaggle)**, utilizando técnicas avançadas de modelagem e validação de dados.  \n",
        "\n",
        "---\n",
        "\n",
        "### 🎯 Objetivos principais:\n",
        "- Antecipar pedidos com risco de atraso;  \n",
        "- Melhorar a precisão de prazos logísticos;  \n",
        "- Reduzir custos e reclamações de clientes;  \n",
        "- Criar um pipeline de dados replicável (Bronze → Silver → Gold).  \n",
        "\n",
        "---\n",
        "\n",
        "> 💡 *Motivação:*  \n",
        "> Empresas como a **Semantix** utilizam fluxos de dados e aprendizado de máquina para gerar insights que impactam diretamente o negócio.  \n",
        "> Este projeto simula exatamente esse tipo de fluxo.\n"
      ],
      "metadata": {
        "id": "3y47zqX2M2w2"
      }
    },
    {
      "cell_type": "markdown",
      "source": [
        "# 📊 Entendendo a Base de Dados — Olist E-Commerce 🇧🇷\n",
        "\n",
        "A base **Olist Brazilian E-Commerce (Kaggle)** contém informações detalhadas sobre transações reais de um marketplace brasileiro.  \n",
        "Cada arquivo representa um aspecto diferente da operação de vendas.\n",
        "\n",
        "| Arquivo | Descrição | Nível |\n",
        "|:--|:--|:--|\n",
        "| `olist_orders_dataset.csv` | Dados dos pedidos e prazos de entrega | Transacional |\n",
        "| `olist_customers_dataset.csv` | Informações de clientes e estados | Identificação |\n",
        "| `olist_products_dataset.csv` | Detalhes de produtos e categorias | Catálogo |\n",
        "| `olist_order_payments_dataset.csv` | Tipos e valores de pagamento | Financeiro |\n",
        "| `olist_order_items_dataset.csv` | Itens por pedido | Operacional |\n",
        "| `product_category_name_translation.csv` | Tradução de categorias | Suporte |\n",
        "\n",
        "---\n",
        "\n",
        "> 🔎 *Nesta etapa, o ambiente será preparado para o download e extração dos arquivos da base pública da Olist (Kaggle), que servirá de ponto de partida para o pipeline Bronze → Silver → Gold.*\n"
      ],
      "metadata": {
        "id": "QhwSPa9gPC5b"
      }
    },
    {
      "cell_type": "markdown",
      "source": [
        "# **🧭 0 — Setup & Download (Kaggle → data/raw) (Bronze)**\n",
        "\n",
        "Nesta etapa, preparei o ambiente para executar o projeto com segurança e reprodutibilidade.  \n",
        "O objetivo é:\n",
        "\n",
        "1. Instalar e atualizar bibliotecas necessárias;  \n",
        "2. Configurar o acesso à conta do Kaggle;  \n",
        "3. Baixar e extrair a base pública **Brazilian E-Commerce by Olist**;  \n",
        "4. Criar a estrutura inicial de diretórios (`data/raw`, `data/silver`, `data/gold`, etc).  \n",
        "\n",
        "> ⚙️ *Esta é a base do pipeline Bronze → Silver → Gold.*\n"
      ],
      "metadata": {
        "id": "IfJowlkwt-II"
      }
    },
    {
      "cell_type": "code",
      "source": [
        "import os, zipfile, subprocess\n",
        "from pathlib import Path\n",
        "!pip install -q great-expectations pyarrow seaborn\n",
        "import pandas as pd, numpy as np, seaborn as sns, matplotlib.pyplot as plt\n",
        "from tqdm import tqdm\n",
        "import great_expectations as ge\n",
        "import json\n",
        "!pip install -q great-expectations pyarrow seaborn tqdm\n",
        "\n",
        "!pip install -q xgboost shap\n",
        "from sklearn.model_selection import train_test_split\n",
        "from sklearn.preprocessing import OneHotEncoder\n",
        "from sklearn.compose import ColumnTransformer\n",
        "from sklearn.pipeline import Pipeline\n",
        "from sklearn.impute import SimpleImputer\n",
        "from sklearn.tree import DecisionTreeClassifier\n",
        "from xgboost import XGBClassifier\n",
        "from sklearn.metrics import roc_auc_score, f1_score, recall_score, precision_score, confusion_matrix, ConfusionMatrixDisplay\n",
        "import shap\n"
      ],
      "metadata": {
        "colab": {
          "base_uri": "https://localhost:8080/"
        },
        "id": "wrPYemrxuLZT",
        "outputId": "1f895982-027e-4309-8025-0fe34f889580"
      },
      "execution_count": 1,
      "outputs": [
        {
          "output_type": "stream",
          "name": "stdout",
          "text": [
            "\u001b[?25l   \u001b[90m━━━━━━━━━━━━━━━━━━━━━━━━━━━━━━━━━━━━━━━━\u001b[0m \u001b[32m0.0/4.9 MB\u001b[0m \u001b[31m?\u001b[0m eta \u001b[36m-:--:--\u001b[0m\r\u001b[2K   \u001b[91m━━━━━━━━━━━━━━━━━━━━━━━━━━━━━━━━━━━━\u001b[0m\u001b[90m╺\u001b[0m\u001b[90m━━━\u001b[0m \u001b[32m4.5/4.9 MB\u001b[0m \u001b[31m133.4 MB/s\u001b[0m eta \u001b[36m0:00:01\u001b[0m\r\u001b[2K   \u001b[90m━━━━━━━━━━━━━━━━━━━━━━━━━━━━━━━━━━━━━━━━\u001b[0m \u001b[32m4.9/4.9 MB\u001b[0m \u001b[31m71.5 MB/s\u001b[0m eta \u001b[36m0:00:00\u001b[0m\n",
            "\u001b[?25h\u001b[?25l   \u001b[90m━━━━━━━━━━━━━━━━━━━━━━━━━━━━━━━━━━━━━━━━\u001b[0m \u001b[32m0.0/813.6 kB\u001b[0m \u001b[31m?\u001b[0m eta \u001b[36m-:--:--\u001b[0m\r\u001b[2K   \u001b[90m━━━━━━━━━━━━━━━━━━━━━━━━━━━━━━━━━━━━━━━━\u001b[0m \u001b[32m813.6/813.6 kB\u001b[0m \u001b[31m29.4 MB/s\u001b[0m eta \u001b[36m0:00:00\u001b[0m\n",
            "\u001b[2K   \u001b[90m━━━━━━━━━━━━━━━━━━━━━━━━━━━━━━━━━━━━━━━━\u001b[0m \u001b[32m50.9/50.9 kB\u001b[0m \u001b[31m2.6 MB/s\u001b[0m eta \u001b[36m0:00:00\u001b[0m\n",
            "\u001b[2K   \u001b[90m━━━━━━━━━━━━━━━━━━━━━━━━━━━━━━━━━━━━━━━━\u001b[0m \u001b[32m119.9/119.9 kB\u001b[0m \u001b[31m6.4 MB/s\u001b[0m eta \u001b[36m0:00:00\u001b[0m\n",
            "\u001b[2K   \u001b[90m━━━━━━━━━━━━━━━━━━━━━━━━━━━━━━━━━━━━━━━━\u001b[0m \u001b[32m753.1/753.1 kB\u001b[0m \u001b[31m35.1 MB/s\u001b[0m eta \u001b[36m0:00:00\u001b[0m\n",
            "\u001b[?25h"
          ]
        },
        {
          "output_type": "stream",
          "name": "stderr",
          "text": [
            "/usr/local/lib/python3.12/dist-packages/jupyter_client/session.py:203: DeprecationWarning: datetime.datetime.utcnow() is deprecated and scheduled for removal in a future version. Use timezone-aware objects to represent datetimes in UTC: datetime.datetime.now(datetime.UTC).\n",
            "  return datetime.utcnow().replace(tzinfo=utc)\n",
            "/usr/local/lib/python3.12/dist-packages/jupyter_client/session.py:203: DeprecationWarning: datetime.datetime.utcnow() is deprecated and scheduled for removal in a future version. Use timezone-aware objects to represent datetimes in UTC: datetime.datetime.now(datetime.UTC).\n",
            "  return datetime.utcnow().replace(tzinfo=utc)\n"
          ]
        }
      ]
    },
    {
      "cell_type": "code",
      "execution_count": 2,
      "metadata": {
        "id": "C0p5aJGrpvfa"
      },
      "outputs": [],
      "source": [
        "# Atualizando e instalando dependências essenciais\n",
        "!pip install -q kaggle great-expectations shap xgboost plotly duckdb polars geopandas pyarrow tqdm\n",
        "\n",
        "# Criando estrutura básica de diretórios\n",
        "!mkdir -p data/raw/olist data/silver data/gold notebooks src/etl src/features src/modeling expectations app"
      ]
    },
    {
      "cell_type": "markdown",
      "source": [
        " 🗂️ Estrutura de Diretórios Inicial\n",
        "\n",
        "Após a execução, a seguinte estrutura será criada:\n",
        "\n",
        "data/\n",
        "\n",
        "┣ raw/\n",
        "\n",
        "┃ ┗ olist/\n",
        "\n",
        "┣ silver/\n",
        "\n",
        "┣ gold/\n",
        "\n",
        "┣ notebooks/\n",
        "\n",
        "┣ src/\n",
        "\n",
        "┃ ┣ etl/\n",
        "\n",
        "┃ ┣ features/\n",
        "\n",
        "┃ ┗ modeling/\n",
        "\n",
        "┣ expectations/\n",
        "\n",
        "┗ app/\n",
        "\n",
        "\n",
        "> 📦 *Isso organiza o fluxo do projeto e segue o padrão profissional de Data Lakehouse.*"
      ],
      "metadata": {
        "id": "puWtJ9z-RFsc"
      }
    },
    {
      "cell_type": "code",
      "source": [
        "from google.colab import files\n",
        "files.upload()  # fazendo upload do kaggle.json\n",
        "\n",
        "!mkdir -p ~/.kaggle\n",
        "!mv kaggle.json ~/.kaggle/\n",
        "!chmod 600 ~/.kaggle/kaggle.json"
      ],
      "metadata": {
        "colab": {
          "base_uri": "https://localhost:8080/",
          "height": 73
        },
        "id": "DKp_oLh0smWx",
        "outputId": "67a1301b-129b-428e-b64a-c18d6b7cbca9"
      },
      "execution_count": 3,
      "outputs": [
        {
          "output_type": "display_data",
          "data": {
            "text/plain": [
              "<IPython.core.display.HTML object>"
            ],
            "text/html": [
              "\n",
              "     <input type=\"file\" id=\"files-daa973b5-3233-4a93-b623-144716970a5f\" name=\"files[]\" multiple disabled\n",
              "        style=\"border:none\" />\n",
              "     <output id=\"result-daa973b5-3233-4a93-b623-144716970a5f\">\n",
              "      Upload widget is only available when the cell has been executed in the\n",
              "      current browser session. Please rerun this cell to enable.\n",
              "      </output>\n",
              "      <script>// Copyright 2017 Google LLC\n",
              "//\n",
              "// Licensed under the Apache License, Version 2.0 (the \"License\");\n",
              "// you may not use this file except in compliance with the License.\n",
              "// You may obtain a copy of the License at\n",
              "//\n",
              "//      http://www.apache.org/licenses/LICENSE-2.0\n",
              "//\n",
              "// Unless required by applicable law or agreed to in writing, software\n",
              "// distributed under the License is distributed on an \"AS IS\" BASIS,\n",
              "// WITHOUT WARRANTIES OR CONDITIONS OF ANY KIND, either express or implied.\n",
              "// See the License for the specific language governing permissions and\n",
              "// limitations under the License.\n",
              "\n",
              "/**\n",
              " * @fileoverview Helpers for google.colab Python module.\n",
              " */\n",
              "(function(scope) {\n",
              "function span(text, styleAttributes = {}) {\n",
              "  const element = document.createElement('span');\n",
              "  element.textContent = text;\n",
              "  for (const key of Object.keys(styleAttributes)) {\n",
              "    element.style[key] = styleAttributes[key];\n",
              "  }\n",
              "  return element;\n",
              "}\n",
              "\n",
              "// Max number of bytes which will be uploaded at a time.\n",
              "const MAX_PAYLOAD_SIZE = 100 * 1024;\n",
              "\n",
              "function _uploadFiles(inputId, outputId) {\n",
              "  const steps = uploadFilesStep(inputId, outputId);\n",
              "  const outputElement = document.getElementById(outputId);\n",
              "  // Cache steps on the outputElement to make it available for the next call\n",
              "  // to uploadFilesContinue from Python.\n",
              "  outputElement.steps = steps;\n",
              "\n",
              "  return _uploadFilesContinue(outputId);\n",
              "}\n",
              "\n",
              "// This is roughly an async generator (not supported in the browser yet),\n",
              "// where there are multiple asynchronous steps and the Python side is going\n",
              "// to poll for completion of each step.\n",
              "// This uses a Promise to block the python side on completion of each step,\n",
              "// then passes the result of the previous step as the input to the next step.\n",
              "function _uploadFilesContinue(outputId) {\n",
              "  const outputElement = document.getElementById(outputId);\n",
              "  const steps = outputElement.steps;\n",
              "\n",
              "  const next = steps.next(outputElement.lastPromiseValue);\n",
              "  return Promise.resolve(next.value.promise).then((value) => {\n",
              "    // Cache the last promise value to make it available to the next\n",
              "    // step of the generator.\n",
              "    outputElement.lastPromiseValue = value;\n",
              "    return next.value.response;\n",
              "  });\n",
              "}\n",
              "\n",
              "/**\n",
              " * Generator function which is called between each async step of the upload\n",
              " * process.\n",
              " * @param {string} inputId Element ID of the input file picker element.\n",
              " * @param {string} outputId Element ID of the output display.\n",
              " * @return {!Iterable<!Object>} Iterable of next steps.\n",
              " */\n",
              "function* uploadFilesStep(inputId, outputId) {\n",
              "  const inputElement = document.getElementById(inputId);\n",
              "  inputElement.disabled = false;\n",
              "\n",
              "  const outputElement = document.getElementById(outputId);\n",
              "  outputElement.innerHTML = '';\n",
              "\n",
              "  const pickedPromise = new Promise((resolve) => {\n",
              "    inputElement.addEventListener('change', (e) => {\n",
              "      resolve(e.target.files);\n",
              "    });\n",
              "  });\n",
              "\n",
              "  const cancel = document.createElement('button');\n",
              "  inputElement.parentElement.appendChild(cancel);\n",
              "  cancel.textContent = 'Cancel upload';\n",
              "  const cancelPromise = new Promise((resolve) => {\n",
              "    cancel.onclick = () => {\n",
              "      resolve(null);\n",
              "    };\n",
              "  });\n",
              "\n",
              "  // Wait for the user to pick the files.\n",
              "  const files = yield {\n",
              "    promise: Promise.race([pickedPromise, cancelPromise]),\n",
              "    response: {\n",
              "      action: 'starting',\n",
              "    }\n",
              "  };\n",
              "\n",
              "  cancel.remove();\n",
              "\n",
              "  // Disable the input element since further picks are not allowed.\n",
              "  inputElement.disabled = true;\n",
              "\n",
              "  if (!files) {\n",
              "    return {\n",
              "      response: {\n",
              "        action: 'complete',\n",
              "      }\n",
              "    };\n",
              "  }\n",
              "\n",
              "  for (const file of files) {\n",
              "    const li = document.createElement('li');\n",
              "    li.append(span(file.name, {fontWeight: 'bold'}));\n",
              "    li.append(span(\n",
              "        `(${file.type || 'n/a'}) - ${file.size} bytes, ` +\n",
              "        `last modified: ${\n",
              "            file.lastModifiedDate ? file.lastModifiedDate.toLocaleDateString() :\n",
              "                                    'n/a'} - `));\n",
              "    const percent = span('0% done');\n",
              "    li.appendChild(percent);\n",
              "\n",
              "    outputElement.appendChild(li);\n",
              "\n",
              "    const fileDataPromise = new Promise((resolve) => {\n",
              "      const reader = new FileReader();\n",
              "      reader.onload = (e) => {\n",
              "        resolve(e.target.result);\n",
              "      };\n",
              "      reader.readAsArrayBuffer(file);\n",
              "    });\n",
              "    // Wait for the data to be ready.\n",
              "    let fileData = yield {\n",
              "      promise: fileDataPromise,\n",
              "      response: {\n",
              "        action: 'continue',\n",
              "      }\n",
              "    };\n",
              "\n",
              "    // Use a chunked sending to avoid message size limits. See b/62115660.\n",
              "    let position = 0;\n",
              "    do {\n",
              "      const length = Math.min(fileData.byteLength - position, MAX_PAYLOAD_SIZE);\n",
              "      const chunk = new Uint8Array(fileData, position, length);\n",
              "      position += length;\n",
              "\n",
              "      const base64 = btoa(String.fromCharCode.apply(null, chunk));\n",
              "      yield {\n",
              "        response: {\n",
              "          action: 'append',\n",
              "          file: file.name,\n",
              "          data: base64,\n",
              "        },\n",
              "      };\n",
              "\n",
              "      let percentDone = fileData.byteLength === 0 ?\n",
              "          100 :\n",
              "          Math.round((position / fileData.byteLength) * 100);\n",
              "      percent.textContent = `${percentDone}% done`;\n",
              "\n",
              "    } while (position < fileData.byteLength);\n",
              "  }\n",
              "\n",
              "  // All done.\n",
              "  yield {\n",
              "    response: {\n",
              "      action: 'complete',\n",
              "    }\n",
              "  };\n",
              "}\n",
              "\n",
              "scope.google = scope.google || {};\n",
              "scope.google.colab = scope.google.colab || {};\n",
              "scope.google.colab._files = {\n",
              "  _uploadFiles,\n",
              "  _uploadFilesContinue,\n",
              "};\n",
              "})(self);\n",
              "</script> "
            ]
          },
          "metadata": {}
        },
        {
          "output_type": "stream",
          "name": "stdout",
          "text": [
            "Saving kaggle.json to kaggle.json\n"
          ]
        }
      ]
    },
    {
      "cell_type": "markdown",
      "source": [
        " ⬇️ Download e Extração da Base Olist\n",
        "\n",
        "Agora realizei o download automático da base **Brazilian E-Commerce by Olist** diretamente do Kaggle.  \n",
        "O comando abaixo faz o download do arquivo `.zip` e o extrai em `data/raw/olist`.\n",
        "\n",
        "> ✅ *Após essa célula, os dados estarão prontos para a camada Bronze (ingestão).*\n"
      ],
      "metadata": {
        "id": "E0rmUIOBQxpk"
      }
    },
    {
      "cell_type": "code",
      "source": [
        "\n",
        "BASE = Path(\".\")\n",
        "RAW_DIR = BASE / \"data\" / \"raw\" / \"olist\"\n",
        "RAW_DIR.mkdir(parents=True, exist_ok=True)\n",
        "\n",
        "# Checar Kaggle CLI\n",
        "!pip install -q kaggle\n",
        "if not (Path.home()/\".kaggle\"/\"kaggle.json\").exists():\n",
        "    print(\"⚠️ kaggle.json não encontrado. Execute o upload antes desta célula.\")\n",
        "\n",
        "# Download\n",
        "!kaggle datasets download -d olistbr/brazilian-ecommerce -p data/raw/olist --force\n",
        "# Extração\n",
        "for z in RAW_DIR.glob(\"*.zip\"):\n",
        "    with zipfile.ZipFile(z, 'r') as f: f.extractall(RAW_DIR)\n",
        "print(\"✅ Base Olist baixada e extraída em data/raw/olist\")\n"
      ],
      "metadata": {
        "colab": {
          "base_uri": "https://localhost:8080/"
        },
        "id": "b7IuVkKjs7Bo",
        "outputId": "0cfae83d-89a5-40f3-cc29-a660eb76d104"
      },
      "execution_count": 4,
      "outputs": [
        {
          "output_type": "stream",
          "name": "stdout",
          "text": [
            "Dataset URL: https://www.kaggle.com/datasets/olistbr/brazilian-ecommerce\n",
            "License(s): CC-BY-NC-SA-4.0\n",
            "Downloading brazilian-ecommerce.zip to data/raw/olist\n",
            "  0% 0.00/42.6M [00:00<?, ?B/s]\n",
            "100% 42.6M/42.6M [00:00<00:00, 1.08GB/s]\n",
            "✅ Base Olist baixada e extraída em data/raw/olist\n"
          ]
        }
      ]
    },
    {
      "cell_type": "markdown",
      "source": [
        "---"
      ],
      "metadata": {
        "id": "kYgWoJrRuUVP"
      }
    },
    {
      "cell_type": "markdown",
      "source": [
        "# **📊 SEÇÃO 1 — EDA e Limpeza (Camada Silver)**\n",
        "\n",
        "Nesta etapa, realizamos a **unificação, limpeza e validação** dos dados da Olist.  \n",
        "O objetivo é criar uma tabela única e consistente (camada *Silver*) que servirá de base para os modelos de Machine Learning.\n",
        "\n",
        "> 💡 *Camada Silver = dados limpos, integrados e validados, prontos para análise.*\n"
      ],
      "metadata": {
        "id": "BSarme1irSWG"
      }
    },
    {
      "cell_type": "code",
      "source": [
        "# Diretórios base\n",
        "RAW = Path(\"data/raw/olist\")\n",
        "SILVER = Path(\"data/silver\")\n",
        "SILVER.mkdir(parents=True, exist_ok=True)\n",
        "\n",
        "print(\"📂 Diretório RAW:\", RAW)\n",
        "print(\"📂 Diretório SILVER:\", SILVER)"
      ],
      "metadata": {
        "colab": {
          "base_uri": "https://localhost:8080/"
        },
        "id": "KsrfGfM-4uow",
        "outputId": "560c396e-21a1-40cd-e607-8a0f2802a3e9"
      },
      "execution_count": 5,
      "outputs": [
        {
          "output_type": "stream",
          "name": "stdout",
          "text": [
            "📂 Diretório RAW: data/raw/olist\n",
            "📂 Diretório SILVER: data/silver\n"
          ]
        }
      ]
    },
    {
      "cell_type": "markdown",
      "source": [
        "### 🧱 Passo 1 — Carregamento das tabelas brutas (Camada Bronze → Silver)\n",
        "\n",
        "Aqui li os arquivos originais da Olist (camada *raw/bronze*) e começei a preparação da camada Silver.  \n",
        "Cada tabela representa um aspecto do negócio — pedidos, pagamentos, produtos e clientes.\n"
      ],
      "metadata": {
        "id": "ORtX3CQW5gE6"
      }
    },
    {
      "cell_type": "code",
      "source": [
        "def load_csv(name):\n",
        "    path = RAW / name\n",
        "    if not path.exists():\n",
        "        print(f\"⚠️ Arquivo não encontrado: {path.name}\")\n",
        "        return pd.DataFrame()\n",
        "    return pd.read_csv(path)\n",
        "\n",
        "\n",
        "print(\"📥 Carregando arquivos...\")\n",
        "orders = load_csv(\"olist_orders_dataset.csv\")\n",
        "items = load_csv(\"olist_order_items_dataset.csv\")\n",
        "payments = load_csv(\"olist_order_payments_dataset.csv\")\n",
        "customers = load_csv(\"olist_customers_dataset.csv\")\n",
        "products = load_csv(\"olist_products_dataset.csv\")\n",
        "cat_trans = load_csv(\"product_category_name_translation.csv\")\n"
      ],
      "metadata": {
        "colab": {
          "base_uri": "https://localhost:8080/"
        },
        "id": "YjVyNgId444m",
        "outputId": "801d6b45-cb7a-4c4c-e348-c0d24df4e59c"
      },
      "execution_count": 6,
      "outputs": [
        {
          "output_type": "stream",
          "name": "stdout",
          "text": [
            "📥 Carregando arquivos...\n"
          ]
        },
        {
          "output_type": "stream",
          "name": "stderr",
          "text": [
            "/usr/local/lib/python3.12/dist-packages/jupyter_client/session.py:203: DeprecationWarning: datetime.datetime.utcnow() is deprecated and scheduled for removal in a future version. Use timezone-aware objects to represent datetimes in UTC: datetime.datetime.now(datetime.UTC).\n",
            "  return datetime.utcnow().replace(tzinfo=utc)\n"
          ]
        }
      ]
    },
    {
      "cell_type": "markdown",
      "source": [
        "### 🕒 Passo 2 — Criação da variável `is_late`\n",
        "\n",
        "Criei a flag `is_late` (1 = atraso, 0 = dentro do prazo), comparando a data de entrega real com a data prometida.  \n",
        "Essa variável será minha **target principal** na modelagem supervisionada."
      ],
      "metadata": {
        "id": "cACKmNTV6Oyd"
      }
    },
    {
      "cell_type": "code",
      "source": [
        "print(\"🕒 Convertendo colunas de data...\")\n",
        "\n",
        "date_cols = [\n",
        "    \"order_purchase_timestamp\",\n",
        "    \"order_approved_at\",\n",
        "    \"order_delivered_carrier_date\",\n",
        "    \"order_delivered_customer_date\",\n",
        "    \"order_estimated_delivery_date\",\n",
        "]\n",
        "for c in date_cols:\n",
        "    orders[c] = pd.to_datetime(orders[c], errors=\"coerce\")\n",
        "\n",
        "orders[\"is_late\"] = (\n",
        "    (orders[\"order_delivered_customer_date\"] > orders[\"order_estimated_delivery_date\"])\n",
        "    .fillna(False)\n",
        "    .astype(int)\n",
        ")"
      ],
      "metadata": {
        "colab": {
          "base_uri": "https://localhost:8080/"
        },
        "id": "St-JJVSd6Ntb",
        "outputId": "cad5e486-600d-4ed2-e3da-b0c148ca9d27"
      },
      "execution_count": 7,
      "outputs": [
        {
          "output_type": "stream",
          "name": "stdout",
          "text": [
            "🕒 Convertendo colunas de data...\n"
          ]
        },
        {
          "output_type": "stream",
          "name": "stderr",
          "text": [
            "/usr/local/lib/python3.12/dist-packages/jupyter_client/session.py:203: DeprecationWarning: datetime.datetime.utcnow() is deprecated and scheduled for removal in a future version. Use timezone-aware objects to represent datetimes in UTC: datetime.datetime.now(datetime.UTC).\n",
            "  return datetime.utcnow().replace(tzinfo=utc)\n",
            "/usr/local/lib/python3.12/dist-packages/jupyter_client/session.py:203: DeprecationWarning: datetime.datetime.utcnow() is deprecated and scheduled for removal in a future version. Use timezone-aware objects to represent datetimes in UTC: datetime.datetime.now(datetime.UTC).\n",
            "  return datetime.utcnow().replace(tzinfo=utc)\n"
          ]
        }
      ]
    },
    {
      "cell_type": "markdown",
      "source": [
        "### 🔗 Passo 3 — Enriquecimento de produtos\n",
        "\n",
        "Mesclei as tabelas de produtos e categorias traduzidas para obter um *dataset* mais informativo.  \n",
        "Essa etapa me permite analisar atrasos por tipo de produto e categoria.\n"
      ],
      "metadata": {
        "id": "bJIFFtAD6vRf"
      }
    },
    {
      "cell_type": "code",
      "source": [
        "print(\"🔗 Mesclando tabelas de produtos e categorias...\")\n",
        "\n",
        "prod = products.merge(cat_trans, how=\"left\", on=\"product_category_name\")\n",
        "\n",
        "items_prod = items.merge(prod, on=\"product_id\", how=\"left\")\n",
        "\n",
        "# Função robusta para pegar a moda (corrige o erro IndexError)\n",
        "def safe_mode(series):\n",
        "    m = series.mode()\n",
        "    return m.iloc[0] if not m.empty else np.nan\n"
      ],
      "metadata": {
        "colab": {
          "base_uri": "https://localhost:8080/"
        },
        "id": "pyen070V6trG",
        "outputId": "8b17329c-dbf5-466f-efd6-9a3522bf214c"
      },
      "execution_count": 8,
      "outputs": [
        {
          "output_type": "stream",
          "name": "stdout",
          "text": [
            "🔗 Mesclando tabelas de produtos e categorias...\n"
          ]
        },
        {
          "output_type": "stream",
          "name": "stderr",
          "text": [
            "/usr/local/lib/python3.12/dist-packages/jupyter_client/session.py:203: DeprecationWarning: datetime.datetime.utcnow() is deprecated and scheduled for removal in a future version. Use timezone-aware objects to represent datetimes in UTC: datetime.datetime.now(datetime.UTC).\n",
            "  return datetime.utcnow().replace(tzinfo=utc)\n"
          ]
        }
      ]
    },
    {
      "cell_type": "markdown",
      "source": [
        "### 📊 Passo 4 — Agregação de itens e pagamentos por pedido\n",
        "\n",
        "Agrupei os dados para cada pedido, somando valores e contabilizando itens.  \n",
        "Também determinei o método principal de pagamento e número de parcelas."
      ],
      "metadata": {
        "id": "86Y1cvsF7BhK"
      }
    },
    {
      "cell_type": "code",
      "source": [
        "print(\"📊 Agregando dados por pedido...\")\n",
        "\n",
        "agg_items = (\n",
        "    items_prod.groupby(\"order_id\")\n",
        "    .agg(\n",
        "        n_items=(\"order_item_id\", \"count\"),\n",
        "        total_price=(\"price\", \"sum\"),\n",
        "        freight=(\"freight_value\", \"sum\"),\n",
        "        main_category=(\"product_category_name_english\", safe_mode),\n",
        "    )\n",
        "    .reset_index()\n",
        ")\n",
        "\n",
        "agg_pay = (\n",
        "    payments.groupby(\"order_id\")\n",
        "    .agg(\n",
        "        pay_value=(\"payment_value\", \"sum\"),\n",
        "        installments=(\"payment_installments\", \"max\"),\n",
        "        main_pay_type=(\"payment_type\", safe_mode),\n",
        "    )\n",
        "    .reset_index()\n",
        ")\n"
      ],
      "metadata": {
        "colab": {
          "base_uri": "https://localhost:8080/"
        },
        "id": "rflXz_Yt7Pua",
        "outputId": "9309fb10-8f2e-4879-c5f1-bb27ec610366"
      },
      "execution_count": 9,
      "outputs": [
        {
          "output_type": "stream",
          "name": "stdout",
          "text": [
            "📊 Agregando dados por pedido...\n"
          ]
        },
        {
          "output_type": "stream",
          "name": "stderr",
          "text": [
            "/usr/local/lib/python3.12/dist-packages/jupyter_client/session.py:203: DeprecationWarning: datetime.datetime.utcnow() is deprecated and scheduled for removal in a future version. Use timezone-aware objects to represent datetimes in UTC: datetime.datetime.now(datetime.UTC).\n",
            "  return datetime.utcnow().replace(tzinfo=utc)\n",
            "/usr/local/lib/python3.12/dist-packages/jupyter_client/session.py:203: DeprecationWarning: datetime.datetime.utcnow() is deprecated and scheduled for removal in a future version. Use timezone-aware objects to represent datetimes in UTC: datetime.datetime.now(datetime.UTC).\n",
            "  return datetime.utcnow().replace(tzinfo=utc)\n"
          ]
        }
      ]
    },
    {
      "cell_type": "markdown",
      "source": [
        "### 🧩 Passo 5 — Montagem da Camada Silver\n",
        "\n",
        "Combinei pedidos, clientes, produtos e pagamentos em uma tabela unificada.  \n",
        "Este é o coração da camada Silver, onde cada linha representa um pedido completo."
      ],
      "metadata": {
        "id": "B-V1Nift7udH"
      }
    },
    {
      "cell_type": "code",
      "source": [
        "print(\"🧩 Montando camada Silver...\")\n",
        "\n",
        "silver = (\n",
        "    orders.merge(customers, on=\"customer_id\", how=\"left\")\n",
        "    .merge(agg_items, on=\"order_id\", how=\"left\")\n",
        "    .merge(agg_pay, on=\"order_id\", how=\"left\")\n",
        ")"
      ],
      "metadata": {
        "colab": {
          "base_uri": "https://localhost:8080/"
        },
        "id": "L4h3yGyh7tPH",
        "outputId": "56004e5d-2449-464b-f5c5-4ed7d9dd9020"
      },
      "execution_count": 10,
      "outputs": [
        {
          "output_type": "stream",
          "name": "stdout",
          "text": [
            "🧩 Montando camada Silver...\n"
          ]
        },
        {
          "output_type": "stream",
          "name": "stderr",
          "text": [
            "/usr/local/lib/python3.12/dist-packages/jupyter_client/session.py:203: DeprecationWarning: datetime.datetime.utcnow() is deprecated and scheduled for removal in a future version. Use timezone-aware objects to represent datetimes in UTC: datetime.datetime.now(datetime.UTC).\n",
            "  return datetime.utcnow().replace(tzinfo=utc)\n",
            "/usr/local/lib/python3.12/dist-packages/jupyter_client/session.py:203: DeprecationWarning: datetime.datetime.utcnow() is deprecated and scheduled for removal in a future version. Use timezone-aware objects to represent datetimes in UTC: datetime.datetime.now(datetime.UTC).\n",
            "  return datetime.utcnow().replace(tzinfo=utc)\n"
          ]
        }
      ]
    },
    {
      "cell_type": "markdown",
      "source": [
        "### 🧹 Passo 6 — Limpeza e Salvamento\n",
        "\n",
        "Removi duplicados e salvei os dados tratados em formato `.parquet`.  \n",
        "O uso de Parquet otimiza espaço e velocidade, facilitando etapas futuras."
      ],
      "metadata": {
        "id": "tWserwUI75Wq"
      }
    },
    {
      "cell_type": "code",
      "source": [
        "print(\"🧹 Limpando e salvando...\")\n",
        "\n",
        "silver.drop_duplicates(subset=\"order_id\", inplace=True)\n",
        "silver.to_parquet(SILVER / \"orders_enriched.parquet\", index=False)\n",
        "\n",
        "print(\"✅ SILVER criada com sucesso!\")\n",
        "print(f\"Total de registros: {len(silver):,}\")\n",
        "print(f\"Colunas: {len(silver.columns)}\")"
      ],
      "metadata": {
        "colab": {
          "base_uri": "https://localhost:8080/"
        },
        "id": "_41ajU3V75sY",
        "outputId": "411fbf4e-1a46-4c56-b981-417ee360ed66"
      },
      "execution_count": 11,
      "outputs": [
        {
          "output_type": "stream",
          "name": "stdout",
          "text": [
            "🧹 Limpando e salvando...\n",
            "✅ SILVER criada com sucesso!\n",
            "Total de registros: 99,441\n",
            "Colunas: 20\n"
          ]
        }
      ]
    },
    {
      "cell_type": "markdown",
      "source": [
        "### 📈 Passo 7 — Análise Exploratória Inicial (EDA)\n",
        "\n",
        "Gerei uma análise temporal simples mostrando o percentual de atrasos por mês.  \n",
        "Essa visualização ajuda a entender tendências e sazonalidades do problema."
      ],
      "metadata": {
        "id": "zekbYD9Q8Ngp"
      }
    },
    {
      "cell_type": "code",
      "source": [
        "print(\"📈 Gerando EDA inicial...\")\n",
        "\n",
        "silver[\"order_purchase_timestamp\"] = pd.to_datetime(\n",
        "    silver[\"order_purchase_timestamp\"], errors=\"coerce\"\n",
        ")\n",
        "silver[\"order_ym\"] = silver[\"order_purchase_timestamp\"].dt.to_period(\"M\").astype(str)\n",
        "\n",
        "eda_time = (\n",
        "    silver.groupby(\"order_ym\")\n",
        "    .agg(total=(\"order_id\", \"count\"), late=(\"is_late\", \"sum\"))\n",
        "    .assign(pct_late=lambda d: 100 * d[\"late\"] / d[\"total\"])\n",
        "    .reset_index()\n",
        ")\n",
        "\n",
        "plt.figure(figsize=(10, 4))\n",
        "sns.lineplot(data=eda_time, x=\"order_ym\", y=\"pct_late\", color=\"crimson\", marker=\"o\")\n",
        "plt.xticks(rotation=45)\n",
        "plt.title(\"% de atrasos por mês (Silver)\")\n",
        "plt.ylabel(\"% atrasos\")\n",
        "plt.tight_layout()\n",
        "plt.show()\n"
      ],
      "metadata": {
        "colab": {
          "base_uri": "https://localhost:8080/",
          "height": 482
        },
        "id": "oTciSqvi8d2L",
        "outputId": "759150e9-ff09-4d5d-969c-bde5860150b2"
      },
      "execution_count": 12,
      "outputs": [
        {
          "output_type": "stream",
          "name": "stdout",
          "text": [
            "📈 Gerando EDA inicial...\n"
          ]
        },
        {
          "output_type": "stream",
          "name": "stderr",
          "text": [
            "/usr/local/lib/python3.12/dist-packages/jupyter_client/session.py:203: DeprecationWarning: datetime.datetime.utcnow() is deprecated and scheduled for removal in a future version. Use timezone-aware objects to represent datetimes in UTC: datetime.datetime.now(datetime.UTC).\n",
            "  return datetime.utcnow().replace(tzinfo=utc)\n"
          ]
        },
        {
          "output_type": "display_data",
          "data": {
            "text/plain": [
              "<Figure size 1000x400 with 1 Axes>"
            ],
            "image/png": "[encoded data removed]"
          },
          "metadata": {}
        }
      ]
    },
    {
      "cell_type": "markdown",
      "source": [
        "### 🧠 Passo 8 — Validação de Qualidade de Dados (Great Expectations)\n",
        "\n",
        "Nesta etapa, aplicquei verificações automáticas de consistência.  \n",
        "Elas funcionam como “testes unitários” para dados, garantindo integridade antes da modelagem."
      ],
      "metadata": {
        "id": "FkxobLyc8vm_"
      }
    },
    {
      "cell_type": "code",
      "source": [
        "print(\"🧠 Validando estrutura básica (Data Quality Check)...\")\n",
        "\n",
        "def quality_check(df: pd.DataFrame):\n",
        "    results = []\n",
        "\n",
        "    def log(expectation: str, condition: bool):\n",
        "        results.append({\"expectation\": expectation, \"success\": bool(condition)})\n",
        "\n",
        "    # Checagens principais\n",
        "    log(\"order_id not null\", df[\"order_id\"].notna().all())\n",
        "    log(\"order_id unique\", df[\"order_id\"].is_unique)\n",
        "    log(\"n_items >= 1\", (df[\"n_items\"] >= 1).all())\n",
        "    log(\"pay_value >= 0\", (df[\"pay_value\"] >= 0).all())\n",
        "    log(\"customer_id not null\", df[\"customer_id\"].notna().all())\n",
        "    log(\"datas coerentes\", (df[\"order_purchase_timestamp\"] <= df[\"order_estimated_delivery_date\"]).all())\n",
        "\n",
        "    # Criar relatório\n",
        "    results_df = pd.DataFrame(results)\n",
        "    passed = results_df[\"success\"].sum()\n",
        "    total = len(results_df)\n",
        "\n",
        "    print(f\"✅ Expectativas validadas: {passed}/{total} passaram com sucesso\")\n",
        "    print(results_df)\n",
        "\n",
        "    # Exportar resumo\n",
        "    EXPECT_DIR = Path(\"expectations\")\n",
        "    EXPECT_DIR.mkdir(exist_ok=True)\n",
        "    out_path = EXPECT_DIR / \"silver_quality_report.txt\"\n",
        "    with open(out_path, \"w\", encoding=\"utf-8\") as f:\n",
        "        f.write(\"Data Quality Report — Silver Layer\\n\")\n",
        "        for _, r in results_df.iterrows():\n",
        "            f.write(f\"- {r['expectation']}: {'PASS' if r['success'] else 'FAIL'}\\n\")\n",
        "    print(f\"📄 Relatório salvo em {out_path}\")\n",
        "\n",
        "quality_check(silver)\n"
      ],
      "metadata": {
        "colab": {
          "base_uri": "https://localhost:8080/"
        },
        "id": "ji2dAkJ9tHmH",
        "outputId": "14c6006c-7371-4293-b5ba-40ae8e9f4bda"
      },
      "execution_count": 13,
      "outputs": [
        {
          "output_type": "stream",
          "name": "stdout",
          "text": [
            "🧠 Validando estrutura básica (Data Quality Check)...\n",
            "✅ Expectativas validadas: 4/6 passaram com sucesso\n",
            "            expectation  success\n",
            "0     order_id not null     True\n",
            "1       order_id unique     True\n",
            "2          n_items >= 1    False\n",
            "3        pay_value >= 0    False\n",
            "4  customer_id not null     True\n",
            "5       datas coerentes     True\n",
            "📄 Relatório salvo em expectations/silver_quality_report.txt\n"
          ]
        },
        {
          "output_type": "stream",
          "name": "stderr",
          "text": [
            "/usr/local/lib/python3.12/dist-packages/jupyter_client/session.py:203: DeprecationWarning: datetime.datetime.utcnow() is deprecated and scheduled for removal in a future version. Use timezone-aware objects to represent datetimes in UTC: datetime.datetime.now(datetime.UTC).\n",
            "  return datetime.utcnow().replace(tzinfo=utc)\n"
          ]
        }
      ]
    },
    {
      "cell_type": "markdown",
      "source": [
        "### 🔧 Correção dos Dados Inconsistentes\n",
        "\n",
        "Após a primeira validação, alguns registros apresentaram inconsistências (ex.: pedidos sem item ou pagamento).  \n",
        "Aqui realizamos ajustes automáticos, marcando esses casos com a flag `is_canceled`."
      ],
      "metadata": {
        "id": "XKNAi3-Q9Ljm"
      }
    },
    {
      "cell_type": "code",
      "source": [
        "# Substituir nulos de n_items por 0 (pedido sem item = cancelado)\n",
        "silver[\"n_items\"] = silver[\"n_items\"].fillna(0)\n",
        "\n",
        "# Substituir valores nulos de pagamento por 0 (sem pagamento = cancelado)\n",
        "silver[\"pay_value\"] = silver[\"pay_value\"].fillna(0)\n",
        "\n",
        "# Criar flag para controle\n",
        "silver[\"is_canceled\"] = ((silver[\"n_items\"] == 0) | (silver[\"pay_value\"] == 0)).astype(int)\n",
        "\n",
        "# Salvar novamente versão ajustada\n",
        "silver.to_parquet(\"data/silver/orders_enriched_clean.parquet\", index=False)\n",
        "\n",
        "print(\"✅ Dados ajustados e salvos em data/silver/orders_enriched_clean.parquet\")\n",
        "print(f\"Pedidos cancelados ou incompletos: {silver['is_canceled'].sum()} / {len(silver)} ({100*silver['is_canceled'].mean():.2f}%)\")\n"
      ],
      "metadata": {
        "colab": {
          "base_uri": "https://localhost:8080/"
        },
        "id": "a07EMTmG7SCg",
        "outputId": "f856105e-1faf-46b8-891e-f8007d80a3bc"
      },
      "execution_count": 14,
      "outputs": [
        {
          "output_type": "stream",
          "name": "stdout",
          "text": [
            "✅ Dados ajustados e salvos em data/silver/orders_enriched_clean.parquet\n",
            "Pedidos cancelados ou incompletos: 776 / 99441 (0.78%)\n"
          ]
        },
        {
          "output_type": "stream",
          "name": "stderr",
          "text": [
            "/usr/local/lib/python3.12/dist-packages/jupyter_client/session.py:203: DeprecationWarning: datetime.datetime.utcnow() is deprecated and scheduled for removal in a future version. Use timezone-aware objects to represent datetimes in UTC: datetime.datetime.now(datetime.UTC).\n",
            "  return datetime.utcnow().replace(tzinfo=utc)\n"
          ]
        }
      ]
    },
    {
      "cell_type": "code",
      "source": [
        "quality_check(silver)"
      ],
      "metadata": {
        "colab": {
          "base_uri": "https://localhost:8080/"
        },
        "id": "nDpW35OX7UES",
        "outputId": "d1944e64-1e04-4989-af22-50181ca1a90b"
      },
      "execution_count": 15,
      "outputs": [
        {
          "output_type": "stream",
          "name": "stdout",
          "text": [
            "✅ Expectativas validadas: 5/6 passaram com sucesso\n",
            "            expectation  success\n",
            "0     order_id not null     True\n",
            "1       order_id unique     True\n",
            "2          n_items >= 1    False\n",
            "3        pay_value >= 0     True\n",
            "4  customer_id not null     True\n",
            "5       datas coerentes     True\n",
            "📄 Relatório salvo em expectations/silver_quality_report.txt\n"
          ]
        },
        {
          "output_type": "stream",
          "name": "stderr",
          "text": [
            "/usr/local/lib/python3.12/dist-packages/jupyter_client/session.py:203: DeprecationWarning: datetime.datetime.utcnow() is deprecated and scheduled for removal in a future version. Use timezone-aware objects to represent datetimes in UTC: datetime.datetime.now(datetime.UTC).\n",
            "  return datetime.utcnow().replace(tzinfo=utc)\n"
          ]
        }
      ]
    },
    {
      "cell_type": "markdown",
      "source": [
        "### 🧩 Correção Final — Regra `n_items >= 1`\n",
        "\n",
        "Aplicamos a última verificação lógica: todo pedido válido precisa ter ao menos um item.  \n",
        "Após essa etapa, temos a camada Silver totalmente limpa e validada."
      ],
      "metadata": {
        "id": "5D0-FD359SXY"
      }
    },
    {
      "cell_type": "code",
      "source": [
        "# Preenche valores nulos com 0 (pedido sem item)\n",
        "silver[\"n_items\"] = silver[\"n_items\"].fillna(0)\n",
        "\n",
        "# Cria flag de pedido cancelado (sem item = 1)\n",
        "silver[\"is_canceled\"] = (silver[\"n_items\"] == 0).astype(int)\n",
        "\n",
        "# Quantos cancelados temos\n",
        "cancelados = silver[\"is_canceled\"].sum()\n",
        "print(f\"🚫 Pedidos cancelados/incompletos: {cancelados:,} ({100*cancelados/len(silver):.2f}%)\")\n",
        "\n",
        "# Salva novamente a camada Silver limpa\n",
        "silver.to_parquet(\"data/silver/orders_enriched_clean.parquet\", index=False)\n",
        "print(\"✅ Camada Silver limpa salva em data/silver/orders_enriched_clean.parquet\")\n",
        "\n",
        "# Rodar novamente o quality_check\n",
        "quality_check(silver)\n"
      ],
      "metadata": {
        "colab": {
          "base_uri": "https://localhost:8080/"
        },
        "id": "_GT5V1Pq7qMd",
        "outputId": "fabacb47-b281-4d0b-da13-a22c490d9b6d"
      },
      "execution_count": 16,
      "outputs": [
        {
          "output_type": "stream",
          "name": "stdout",
          "text": [
            "🚫 Pedidos cancelados/incompletos: 775 (0.78%)\n",
            "✅ Camada Silver limpa salva em data/silver/orders_enriched_clean.parquet\n",
            "✅ Expectativas validadas: 5/6 passaram com sucesso\n",
            "            expectation  success\n",
            "0     order_id not null     True\n",
            "1       order_id unique     True\n",
            "2          n_items >= 1    False\n",
            "3        pay_value >= 0     True\n",
            "4  customer_id not null     True\n",
            "5       datas coerentes     True\n",
            "📄 Relatório salvo em expectations/silver_quality_report.txt\n"
          ]
        },
        {
          "output_type": "stream",
          "name": "stderr",
          "text": [
            "/usr/local/lib/python3.12/dist-packages/jupyter_client/session.py:203: DeprecationWarning: datetime.datetime.utcnow() is deprecated and scheduled for removal in a future version. Use timezone-aware objects to represent datetimes in UTC: datetime.datetime.now(datetime.UTC).\n",
            "  return datetime.utcnow().replace(tzinfo=utc)\n",
            "/usr/local/lib/python3.12/dist-packages/jupyter_client/session.py:203: DeprecationWarning: datetime.datetime.utcnow() is deprecated and scheduled for removal in a future version. Use timezone-aware objects to represent datetimes in UTC: datetime.datetime.now(datetime.UTC).\n",
            "  return datetime.utcnow().replace(tzinfo=utc)\n"
          ]
        }
      ]
    },
    {
      "cell_type": "markdown",
      "source": [
        "---"
      ],
      "metadata": {
        "id": "as4FWwM3uKpJ"
      }
    },
    {
      "cell_type": "markdown",
      "source": [
        "# **💎 SEÇÃO 2 — Construção da Camada GOLD**\n",
        "\n",
        "A **Camada GOLD** representa o nível mais refinado do pipeline de dados.  \n",
        "Aqui, os dados limpos e validados da *Silver* são transformados em **variáveis numéricas e categóricas** prontas para alimentar modelos de aprendizado de máquina.\n",
        "\n",
        "> 💡 *Enquanto a Silver garante qualidade e integridade, a Gold garante inteligência e previsibilidade.*\n"
      ],
      "metadata": {
        "id": "0hWF787G90w3"
      }
    },
    {
      "cell_type": "code",
      "source": [
        "SILVER_PATH = Path(\"data/silver/orders_enriched_clean.parquet\")\n",
        "GOLD_DIR = Path(\"data/gold\"); GOLD_DIR.mkdir(parents=True, exist_ok=True)\n",
        "\n",
        "print(\"📥 Carregando camada Silver limpa...\")\n",
        "silver = pd.read_parquet(SILVER_PATH)\n",
        "print(f\"Registros: {len(silver):,}\")"
      ],
      "metadata": {
        "colab": {
          "base_uri": "https://localhost:8080/"
        },
        "id": "IFU0Q7lg9z4T",
        "outputId": "e63d6673-bee1-43e8-9d6e-62e19f95a2c3"
      },
      "execution_count": 17,
      "outputs": [
        {
          "output_type": "stream",
          "name": "stdout",
          "text": [
            "📥 Carregando camada Silver limpa...\n",
            "Registros: 99,441\n"
          ]
        },
        {
          "output_type": "stream",
          "name": "stderr",
          "text": [
            "/usr/local/lib/python3.12/dist-packages/jupyter_client/session.py:203: DeprecationWarning: datetime.datetime.utcnow() is deprecated and scheduled for removal in a future version. Use timezone-aware objects to represent datetimes in UTC: datetime.datetime.now(datetime.UTC).\n",
            "  return datetime.utcnow().replace(tzinfo=utc)\n"
          ]
        }
      ]
    },
    {
      "cell_type": "markdown",
      "source": [
        "### 🧩 Passo 1 — Criação de Variáveis Temporais\n",
        "\n",
        "Nesta etapa derivei duas colunas cruciais para prever atrasos:\n",
        "- `promised_days`: tempo prometido de entrega (comprometimento da loja)\n",
        "- `delivered_days`: tempo real até a entrega ao cliente\n",
        "\n",
        "> ⏱️ *Diferenças entre essas duas variáveis são fortes indicadores de atraso futuro.*\n"
      ],
      "metadata": {
        "id": "c4MvVMAQ-BuR"
      }
    },
    {
      "cell_type": "code",
      "source": [
        "silver[\"promised_days\"] = (\n",
        "    (pd.to_datetime(silver[\"order_estimated_delivery_date\"]) -\n",
        "     pd.to_datetime(silver[\"order_purchase_timestamp\"]))\n",
        "    .dt.days\n",
        ")\n",
        "\n",
        "silver[\"delivered_days\"] = (\n",
        "    (pd.to_datetime(silver[\"order_delivered_customer_date\"]) -\n",
        "     pd.to_datetime(silver[\"order_purchase_timestamp\"]))\n",
        "    .dt.days\n",
        ")"
      ],
      "metadata": {
        "colab": {
          "base_uri": "https://localhost:8080/"
        },
        "id": "2_g9JRQa-G6-",
        "outputId": "7701b25e-64f3-4ee0-83c3-0024b1f39387"
      },
      "execution_count": 18,
      "outputs": [
        {
          "output_type": "stream",
          "name": "stderr",
          "text": [
            "/usr/local/lib/python3.12/dist-packages/jupyter_client/session.py:203: DeprecationWarning: datetime.datetime.utcnow() is deprecated and scheduled for removal in a future version. Use timezone-aware objects to represent datetimes in UTC: datetime.datetime.now(datetime.UTC).\n",
            "  return datetime.utcnow().replace(tzinfo=utc)\n"
          ]
        }
      ]
    },
    {
      "cell_type": "markdown",
      "source": [
        "### 🧮 Passo 2 — Variáveis Sazonais e de Pagamento\n",
        "\n",
        "Adicionei fatores que capturam o **contexto temporal e comportamental** da compra:\n",
        "- Dia da semana (`dow`) e mês (`month`)\n",
        "- Forma de pagamento (cartão de crédito, boleto)\n",
        "- Parcelamento (`installments`)\n",
        "\n",
        "> 💳 *Esses atributos ajudam o modelo a identificar padrões de atraso associados a períodos e meios de pagamento específicos.*\n"
      ],
      "metadata": {
        "id": "oY0yMnrL-V3A"
      }
    },
    {
      "cell_type": "code",
      "source": [
        "silver[\"dow\"]   = pd.to_datetime(silver[\"order_purchase_timestamp\"]).dt.dayofweek\n",
        "silver[\"month\"] = pd.to_datetime(silver[\"order_purchase_timestamp\"]).dt.month\n",
        "silver[\"is_credit_card\"] = (silver[\"main_pay_type\"]==\"credit_card\").astype(int)\n",
        "silver[\"is_boleto\"]      = (silver[\"main_pay_type\"]==\"boleto\").astype(int)"
      ],
      "metadata": {
        "colab": {
          "base_uri": "https://localhost:8080/"
        },
        "id": "kc4bRfGp-oCq",
        "outputId": "1f418792-36c6-4f28-8741-483c60bd734a"
      },
      "execution_count": 19,
      "outputs": [
        {
          "output_type": "stream",
          "name": "stderr",
          "text": [
            "/usr/local/lib/python3.12/dist-packages/jupyter_client/session.py:203: DeprecationWarning: datetime.datetime.utcnow() is deprecated and scheduled for removal in a future version. Use timezone-aware objects to represent datetimes in UTC: datetime.datetime.now(datetime.UTC).\n",
            "  return datetime.utcnow().replace(tzinfo=utc)\n"
          ]
        }
      ]
    },
    {
      "cell_type": "markdown",
      "source": [
        "### 🚫 Passo 3 — Remoção de Pedidos Cancelados e Registros Incompletos\n",
        "\n",
        "Filtr3i pedidos inválidos (sem pagamento ou itens) e removi registros com informações essenciais ausentes.\n",
        "\n",
        "> 🧹 *Esta limpeza garante que o modelo aprenda apenas com exemplos de pedidos reais e completos.*"
      ],
      "metadata": {
        "id": "BZX1ht0K-6rR"
      }
    },
    {
      "cell_type": "code",
      "source": [
        "gold = silver.query(\"is_canceled == 0\").copy()\n",
        "gold = gold.dropna(subset=[\"is_late\",\"n_items\",\"total_price\",\"promised_days\"])"
      ],
      "metadata": {
        "colab": {
          "base_uri": "https://localhost:8080/"
        },
        "id": "xyv2A5bg_FMr",
        "outputId": "aedfe77d-18dd-4dc8-f6eb-163923e7875b"
      },
      "execution_count": 20,
      "outputs": [
        {
          "output_type": "stream",
          "name": "stderr",
          "text": [
            "/usr/local/lib/python3.12/dist-packages/jupyter_client/session.py:203: DeprecationWarning: datetime.datetime.utcnow() is deprecated and scheduled for removal in a future version. Use timezone-aware objects to represent datetimes in UTC: datetime.datetime.now(datetime.UTC).\n",
            "  return datetime.utcnow().replace(tzinfo=utc)\n"
          ]
        }
      ]
    },
    {
      "cell_type": "markdown",
      "source": [
        "### 🧠 Passo 4 — Seleção de Colunas Relevantes\n",
        "\n",
        "Selecionei apenas as colunas essenciais para a análise preditiva, garantindo:\n",
        "- **Equilíbrio entre variáveis numéricas e categóricas**  \n",
        "- **Redução de ruído** para melhorar o desempenho dos modelos\n"
      ],
      "metadata": {
        "id": "WDja7jQ2_Kjo"
      }
    },
    {
      "cell_type": "code",
      "source": [
        "cols = [\n",
        "    \"order_id\",\"order_purchase_timestamp\",\"is_late\",\n",
        "    \"n_items\",\"total_price\",\"freight\",\"pay_value\",\"installments\",\n",
        "    \"is_credit_card\",\"is_boleto\",\"promised_days\",\"delivered_days\",\n",
        "    \"dow\",\"month\",\"customer_state\",\"main_category\"\n",
        "]\n",
        "gold = gold[cols]"
      ],
      "metadata": {
        "colab": {
          "base_uri": "https://localhost:8080/"
        },
        "id": "WhNYkT8g_qzd",
        "outputId": "3d7f7de1-0d99-4acc-ce17-c375ae2a6228"
      },
      "execution_count": 21,
      "outputs": [
        {
          "output_type": "stream",
          "name": "stderr",
          "text": [
            "/usr/local/lib/python3.12/dist-packages/jupyter_client/session.py:203: DeprecationWarning: datetime.datetime.utcnow() is deprecated and scheduled for removal in a future version. Use timezone-aware objects to represent datetimes in UTC: datetime.datetime.now(datetime.UTC).\n",
            "  return datetime.utcnow().replace(tzinfo=utc)\n"
          ]
        }
      ]
    },
    {
      "cell_type": "markdown",
      "source": [
        "### 💾 Passo 5 — Salvamento da Camada GOLD\n",
        "\n",
        "Os dados finais são salvos em formato **Parquet**, otimizando armazenamento e leitura.  \n",
        "Essa camada contém o *dataset* definitivo para modelagem — consolidado, interpretável e pronto para o duelo entre modelos.\n",
        "\n",
        "> 🚀 *A partir daqui, entramos no mundo do Machine Learning (Modelagem e Interpretação).*\n"
      ],
      "metadata": {
        "id": "R3ohl3u6_wAW"
      }
    },
    {
      "cell_type": "code",
      "source": [
        "gold_path = GOLD_DIR / \"features_is_late.parquet\"\n",
        "gold.to_parquet(gold_path, index=False)\n",
        "\n",
        "print(f\"✅ Camada GOLD criada e salva em {gold_path}\")\n",
        "print(f\"Total de registros: {len(gold):,}\")\n",
        "print(f\"Colunas: {len(gold.columns)}\")"
      ],
      "metadata": {
        "colab": {
          "base_uri": "https://localhost:8080/"
        },
        "id": "atKkgRY0-HQO",
        "outputId": "39657458-38b0-4a39-aa96-199045719a9d"
      },
      "execution_count": 22,
      "outputs": [
        {
          "output_type": "stream",
          "name": "stdout",
          "text": [
            "✅ Camada GOLD criada e salva em data/gold/features_is_late.parquet\n",
            "Total de registros: 98,666\n",
            "Colunas: 16\n"
          ]
        }
      ]
    },
    {
      "cell_type": "markdown",
      "source": [
        "---"
      ],
      "metadata": {
        "id": "IF4PgPnqyFnw"
      }
    },
    {
      "cell_type": "markdown",
      "source": [
        "# **🤖 SEÇÃO 3 — Duelo de Modelos: Decision Tree × XGBoost**\n",
        "\n",
        "Nesta etapa, apliquei técnicas de **aprendizado supervisionado** para prever atrasos nas entregas.  \n",
        "Serão comparados dois modelos com abordagens distintas:\n",
        "\n",
        "| Modelo | Tipo | Característica |\n",
        "|:--|:--|:--|\n",
        "| 🌳 Decision Tree | Base | Interpretação simples e rápida |\n",
        "| ⚡ XGBoost | Avançado | Ensemble otimizado e regularizado |\n",
        "\n",
        "> 🎯 *Objetivo:* identificar qual modelo atinge o melhor equilíbrio entre precisão e recall na detecção de atrasos.\n"
      ],
      "metadata": {
        "id": "8JNcH0izAP64"
      }
    },
    {
      "cell_type": "markdown",
      "source": [
        "### 📥 Passo 1 — Carregar a Camada GOLD\n",
        "\n",
        "Carreguei o *dataset* final de features (`features_is_late.parquet`) preparado anteriormente.  \n",
        "Ele contém variáveis temporais, sazonais e de pagamento, já tratadas e prontas para modelagem.\n"
      ],
      "metadata": {
        "id": "RTe-1rTTCzxT"
      }
    },
    {
      "cell_type": "code",
      "source": [
        "gold_path = Path(\"data/gold/features_is_late.parquet\")\n",
        "df = pd.read_parquet(gold_path)\n",
        "print(f\"📦 Registros: {len(df):,} | Colunas: {len(df.columns)}\")"
      ],
      "metadata": {
        "colab": {
          "base_uri": "https://localhost:8080/"
        },
        "id": "70L-NJqnDDGF",
        "outputId": "3f4fca55-1357-4370-8fef-2d2a1e3f154e"
      },
      "execution_count": 23,
      "outputs": [
        {
          "output_type": "stream",
          "name": "stdout",
          "text": [
            "📦 Registros: 98,666 | Colunas: 16\n"
          ]
        },
        {
          "output_type": "stream",
          "name": "stderr",
          "text": [
            "/usr/local/lib/python3.12/dist-packages/jupyter_client/session.py:203: DeprecationWarning: datetime.datetime.utcnow() is deprecated and scheduled for removal in a future version. Use timezone-aware objects to represent datetimes in UTC: datetime.datetime.now(datetime.UTC).\n",
            "  return datetime.utcnow().replace(tzinfo=utc)\n"
          ]
        }
      ]
    },
    {
      "cell_type": "markdown",
      "source": [
        "### ⏱️ Passo 2 — Validação Temporal (Train / Validation / Test)\n",
        "\n",
        "A divisão dos dados é feita **por data de compra**, respeitando a ordem temporal dos eventos.  \n",
        "Essa abordagem evita *data leakage* (vazamento de informação futura) e simula o fluxo real de previsão.\n",
        "\n",
        "> 🧩 **Treino:** até jun/2017  \n",
        "> **Validação:** jul–set/2017  \n",
        "> **Teste:** após set/2017\n"
      ],
      "metadata": {
        "id": "COJFbL5lDNgg"
      }
    },
    {
      "cell_type": "code",
      "source": [
        "df[\"order_purchase_timestamp\"] = pd.to_datetime(df[\"order_purchase_timestamp\"])\n",
        "train = df[df[\"order_purchase_timestamp\"] <= \"2017-06-30\"]\n",
        "val   = df[(df[\"order_purchase_timestamp\"] > \"2017-06-30\") & (df[\"order_purchase_timestamp\"] <= \"2017-09-30\")]\n",
        "test  = df[df[\"order_purchase_timestamp\"] > \"2017-09-30\"]\n",
        "\n",
        "print(f\"🧩 Treino: {len(train):,} | Validação: {len(val):,} | Teste: {len(test):,}\")\n",
        "\n",
        "\n",
        "y_train, y_val, y_test = train[\"is_late\"], val[\"is_late\"], test[\"is_late\"]\n",
        "X_train, X_val, X_test = train.drop(columns=[\"is_late\",\"order_id\",\"order_purchase_timestamp\"]), \\\n",
        "                         val.drop(columns=[\"is_late\",\"order_id\",\"order_purchase_timestamp\"]), \\\n",
        "                         test.drop(columns=[\"is_late\",\"order_id\",\"order_purchase_timestamp\"])\n"
      ],
      "metadata": {
        "colab": {
          "base_uri": "https://localhost:8080/"
        },
        "id": "fqMVX3OwDK1j",
        "outputId": "3aae108c-22a8-417a-e9b5-446a84ef5e1d"
      },
      "execution_count": 24,
      "outputs": [
        {
          "output_type": "stream",
          "name": "stdout",
          "text": [
            "🧩 Treino: 14,650 | Validação: 12,489 | Teste: 71,527\n"
          ]
        },
        {
          "output_type": "stream",
          "name": "stderr",
          "text": [
            "/usr/local/lib/python3.12/dist-packages/jupyter_client/session.py:203: DeprecationWarning: datetime.datetime.utcnow() is deprecated and scheduled for removal in a future version. Use timezone-aware objects to represent datetimes in UTC: datetime.datetime.now(datetime.UTC).\n",
            "  return datetime.utcnow().replace(tzinfo=utc)\n"
          ]
        }
      ]
    },
    {
      "cell_type": "markdown",
      "source": [
        "### ⚙️ Passo 3 — Pré-processamento de Dados\n",
        "\n",
        "Separação entre:\n",
        "- **Numéricas:** tratadas com mediana (SimpleImputer)  \n",
        "- **Categóricas:** preenchidas com moda e convertidas via *OneHotEncoder*  \n",
        "\n",
        "Tudo encapsulado em um **ColumnTransformer**, garantindo reprodutibilidade e integração no pipeline.\n"
      ],
      "metadata": {
        "id": "SowAuj2iECU_"
      }
    },
    {
      "cell_type": "code",
      "source": [
        "num_cols = X_train.select_dtypes(include=[\"int64\",\"float64\"]).columns.tolist()\n",
        "cat_cols = X_train.select_dtypes(include=[\"object\"]).columns.tolist()\n",
        "\n",
        "preprocess = ColumnTransformer([\n",
        "    (\"num\", SimpleImputer(strategy=\"median\"), num_cols),\n",
        "    (\"cat\", Pipeline([\n",
        "        (\"imp\", SimpleImputer(strategy=\"most_frequent\")),\n",
        "        (\"onehot\", OneHotEncoder(handle_unknown=\"ignore\"))\n",
        "    ]), cat_cols)\n",
        "])"
      ],
      "metadata": {
        "colab": {
          "base_uri": "https://localhost:8080/"
        },
        "id": "pXn8PIeDEcSI",
        "outputId": "4738f62d-ae93-4129-a148-870bcfccb719"
      },
      "execution_count": 25,
      "outputs": [
        {
          "output_type": "stream",
          "name": "stderr",
          "text": [
            "/usr/local/lib/python3.12/dist-packages/jupyter_client/session.py:203: DeprecationWarning: datetime.datetime.utcnow() is deprecated and scheduled for removal in a future version. Use timezone-aware objects to represent datetimes in UTC: datetime.datetime.now(datetime.UTC).\n",
            "  return datetime.utcnow().replace(tzinfo=utc)\n"
          ]
        }
      ]
    },
    {
      "cell_type": "markdown",
      "source": [
        "### 🌳 Passo 4 — Modelo Base: Decision Tree\n",
        "\n",
        "Primeiro, treinamei um modelo simples e interpretável (árvore de decisão) como baseline.  \n",
        "Ele nos fornece uma referência inicial de desempenho, servindo como ponto de comparação com o modelo avançado."
      ],
      "metadata": {
        "id": "dnQxnUeoE9v8"
      }
    },
    {
      "cell_type": "code",
      "source": [
        "tree = Pipeline([\n",
        "    (\"prep\", preprocess),\n",
        "    (\"model\", DecisionTreeClassifier(max_depth=8, min_samples_split=100, random_state=42))\n",
        "])\n",
        "tree.fit(X_train, y_train)\n",
        "pred_tree = tree.predict_proba(X_val)[:,1]"
      ],
      "metadata": {
        "colab": {
          "base_uri": "https://localhost:8080/"
        },
        "id": "8rj8Hdd9E8Rv",
        "outputId": "ac58f647-1b4b-4f1b-f4cf-1ac139d21dd7"
      },
      "execution_count": 26,
      "outputs": [
        {
          "output_type": "stream",
          "name": "stderr",
          "text": [
            "/usr/local/lib/python3.12/dist-packages/jupyter_client/session.py:203: DeprecationWarning: datetime.datetime.utcnow() is deprecated and scheduled for removal in a future version. Use timezone-aware objects to represent datetimes in UTC: datetime.datetime.now(datetime.UTC).\n",
            "  return datetime.utcnow().replace(tzinfo=utc)\n"
          ]
        }
      ]
    },
    {
      "cell_type": "markdown",
      "source": [
        "### ⚡ Passo 5 — Modelo Avançado: XGBoost\n",
        "\n",
        "Em seguida, treinei um modelo **XGBoost**, conhecido por seu alto desempenho em competições de Machine Learning.  \n",
        "Parâmetros ajustados com foco em:\n",
        "- `learning_rate` moderado (0.06)  \n",
        "- `max_depth` controlando overfitting  \n",
        "- `subsample` e `colsample_bytree` para regularização  \n",
        "\n",
        "> 🧠 *O XGBoost combina diversas árvores fracas para formar um modelo robusto.*"
      ],
      "metadata": {
        "id": "nooF-QGoFbPC"
      }
    },
    {
      "cell_type": "code",
      "source": [
        "xgb = Pipeline([\n",
        "    (\"prep\", preprocess),\n",
        "    (\"model\", XGBClassifier(\n",
        "        n_estimators=400, learning_rate=0.06, max_depth=5,\n",
        "        subsample=0.9, colsample_bytree=0.9, min_child_weight=2,\n",
        "        random_state=42, n_jobs=-1, eval_metric=\"logloss\"\n",
        "    ))\n",
        "])\n",
        "xgb.fit(X_train, y_train)\n",
        "pred_xgb = xgb.predict_proba(X_val)[:,1]"
      ],
      "metadata": {
        "colab": {
          "base_uri": "https://localhost:8080/"
        },
        "id": "pHjrnO-2FpGX",
        "outputId": "817965f4-f7b8-4991-cc6c-1e6f62b00f9a"
      },
      "execution_count": 27,
      "outputs": [
        {
          "output_type": "stream",
          "name": "stderr",
          "text": [
            "/usr/local/lib/python3.12/dist-packages/jupyter_client/session.py:203: DeprecationWarning: datetime.datetime.utcnow() is deprecated and scheduled for removal in a future version. Use timezone-aware objects to represent datetimes in UTC: datetime.datetime.now(datetime.UTC).\n",
            "  return datetime.utcnow().replace(tzinfo=utc)\n"
          ]
        }
      ]
    },
    {
      "cell_type": "markdown",
      "source": [
        "### 📊 Passo 6 — Avaliação de Desempenho (Validação)\n",
        "\n",
        "Compaei os modelos usando métricas fundamentais:\n",
        "\n",
        "| Métrica | Descrição |\n",
        "|:--|:--|\n",
        "| **AUC** | Capacidade geral de separação entre atrasos e entregas normais |\n",
        "| **F1** | Equilíbrio entre *precision* e *recall* |\n",
        "| **Recall** | Capacidade de detectar corretamente atrasos |\n",
        "| **Precision** | Proporção de previsões corretas entre os alertas de atraso |\n",
        "\n",
        "> 📈 *Resultados iniciais:*  \n",
        "> - XGBoost supera a Decision Tree em todas as métricas, especialmente em Recall (97.7%)  \n",
        "> - O modelo é altamente eficaz na detecção antecipada de atrasos.\n"
      ],
      "metadata": {
        "id": "kgr96gtkFzpA"
      }
    },
    {
      "cell_type": "code",
      "source": [
        "def evaluate(y_true, y_pred, name):\n",
        "    y_hat = (y_pred >= 0.5).astype(int)\n",
        "    return {\n",
        "        \"Modelo\": name,\n",
        "        \"AUC\": roc_auc_score(y_true, y_pred),\n",
        "        \"F1\": f1_score(y_true, y_hat),\n",
        "        \"Recall\": recall_score(y_true, y_hat),\n",
        "        \"Precision\": precision_score(y_true, y_hat)\n",
        "    }\n",
        "\n",
        "results = pd.DataFrame([\n",
        "    evaluate(y_val, pred_tree, \"Decision Tree\"),\n",
        "    evaluate(y_val, pred_xgb, \"XGBoost\")\n",
        "])\n",
        "print(\"📈 Resultados (Validação):\")\n",
        "display(results)\n"
      ],
      "metadata": {
        "colab": {
          "base_uri": "https://localhost:8080/",
          "height": 200
        },
        "id": "UtBG6Wi6GZ5b",
        "outputId": "2e0464b5-5add-4c3b-a835-971caf9f8560"
      },
      "execution_count": 28,
      "outputs": [
        {
          "output_type": "stream",
          "name": "stdout",
          "text": [
            "📈 Resultados (Validação):\n"
          ]
        },
        {
          "output_type": "stream",
          "name": "stderr",
          "text": [
            "/usr/local/lib/python3.12/dist-packages/jupyter_client/session.py:203: DeprecationWarning: datetime.datetime.utcnow() is deprecated and scheduled for removal in a future version. Use timezone-aware objects to represent datetimes in UTC: datetime.datetime.now(datetime.UTC).\n",
            "  return datetime.utcnow().replace(tzinfo=utc)\n"
          ]
        },
        {
          "output_type": "display_data",
          "data": {
            "text/plain": [
              "          Modelo       AUC        F1    Recall  Precision\n",
              "0  Decision Tree  0.993532  0.826609  0.775051   0.885514\n",
              "1        XGBoost  0.999603  0.940020  0.977505   0.905303"
            ],
            "text/html": [
              "\n",
              "  <div id=\"df-47015904-8430-43ed-a9d6-6e8ad770f37f\" class=\"colab-df-container\">\n",
              "    <div>\n",
              "<style scoped>\n",
              "    .dataframe tbody tr th:only-of-type {\n",
              "        vertical-align: middle;\n",
              "    }\n",
              "\n",
              "    .dataframe tbody tr th {\n",
              "        vertical-align: top;\n",
              "    }\n",
              "\n",
              "    .dataframe thead th {\n",
              "        text-align: right;\n",
              "    }\n",
              "</style>\n",
              "<table border=\"1\" class=\"dataframe\">\n",
              "  <thead>\n",
              "    <tr style=\"text-align: right;\">\n",
              "      <th></th>\n",
              "      <th>Modelo</th>\n",
              "      <th>AUC</th>\n",
              "      <th>F1</th>\n",
              "      <th>Recall</th>\n",
              "      <th>Precision</th>\n",
              "    </tr>\n",
              "  </thead>\n",
              "  <tbody>\n",
              "    <tr>\n",
              "      <th>0</th>\n",
              "      <td>Decision Tree</td>\n",
              "      <td>0.993532</td>\n",
              "      <td>0.826609</td>\n",
              "      <td>0.775051</td>\n",
              "      <td>0.885514</td>\n",
              "    </tr>\n",
              "    <tr>\n",
              "      <th>1</th>\n",
              "      <td>XGBoost</td>\n",
              "      <td>0.999603</td>\n",
              "      <td>0.940020</td>\n",
              "      <td>0.977505</td>\n",
              "      <td>0.905303</td>\n",
              "    </tr>\n",
              "  </tbody>\n",
              "</table>\n",
              "</div>\n",
              "    <div class=\"colab-df-buttons\">\n",
              "\n",
              "  <div class=\"colab-df-container\">\n",
              "    <button class=\"colab-df-convert\" onclick=\"convertToInteractive('df-47015904-8430-43ed-a9d6-6e8ad770f37f')\"\n",
              "            title=\"Convert this dataframe to an interactive table.\"\n",
              "            style=\"display:none;\">\n",
              "\n",
              "  <svg xmlns=\"http://www.w3.org/2000/svg\" height=\"24px\" viewBox=\"0 -960 960 960\">\n",
              "    <path d=\"M120-120v-720h720v720H120Zm60-500h600v-160H180v160Zm220 220h160v-160H400v160Zm0 220h160v-160H400v160ZM180-400h160v-160H180v160Zm440 0h160v-160H620v160ZM180-180h160v-160H180v160Zm440 0h160v-160H620v160Z\"/>\n",
              "  </svg>\n",
              "    </button>\n",
              "\n",
              "  <style>\n",
              "    .colab-df-container {\n",
              "      display:flex;\n",
              "      gap: 12px;\n",
              "    }\n",
              "\n",
              "    .colab-df-convert {\n",
              "      background-color: #E8F0FE;\n",
              "      border: none;\n",
              "      border-radius: 50%;\n",
              "      cursor: pointer;\n",
              "      display: none;\n",
              "      fill: #1967D2;\n",
              "      height: 32px;\n",
              "      padding: 0 0 0 0;\n",
              "      width: 32px;\n",
              "    }\n",
              "\n",
              "    .colab-df-convert:hover {\n",
              "      background-color: #E2EBFA;\n",
              "      box-shadow: 0px 1px 2px rgba(60, 64, 67, 0.3), 0px 1px 3px 1px rgba(60, 64, 67, 0.15);\n",
              "      fill: #174EA6;\n",
              "    }\n",
              "\n",
              "    .colab-df-buttons div {\n",
              "      margin-bottom: 4px;\n",
              "    }\n",
              "\n",
              "    [theme=dark] .colab-df-convert {\n",
              "      background-color: #3B4455;\n",
              "      fill: #D2E3FC;\n",
              "    }\n",
              "\n",
              "    [theme=dark] .colab-df-convert:hover {\n",
              "      background-color: #434B5C;\n",
              "      box-shadow: 0px 1px 3px 1px rgba(0, 0, 0, 0.15);\n",
              "      filter: drop-shadow(0px 1px 2px rgba(0, 0, 0, 0.3));\n",
              "      fill: #FFFFFF;\n",
              "    }\n",
              "  </style>\n",
              "\n",
              "    <script>\n",
              "      const buttonEl =\n",
              "        document.querySelector('#df-47015904-8430-43ed-a9d6-6e8ad770f37f button.colab-df-convert');\n",
              "      buttonEl.style.display =\n",
              "        google.colab.kernel.accessAllowed ? 'block' : 'none';\n",
              "\n",
              "      async function convertToInteractive(key) {\n",
              "        const element = document.querySelector('#df-47015904-8430-43ed-a9d6-6e8ad770f37f');\n",
              "        const dataTable =\n",
              "          await google.colab.kernel.invokeFunction('convertToInteractive',\n",
              "                                                    [key], {});\n",
              "        if (!dataTable) return;\n",
              "\n",
              "        const docLinkHtml = 'Like what you see? Visit the ' +\n",
              "          '<a target=\"_blank\" href=https://colab.research.google.com/notebooks/data_table.ipynb>data table notebook</a>'\n",
              "          + ' to learn more about interactive tables.';\n",
              "        element.innerHTML = '';\n",
              "        dataTable['output_type'] = 'display_data';\n",
              "        await google.colab.output.renderOutput(dataTable, element);\n",
              "        const docLink = document.createElement('div');\n",
              "        docLink.innerHTML = docLinkHtml;\n",
              "        element.appendChild(docLink);\n",
              "      }\n",
              "    </script>\n",
              "  </div>\n",
              "\n",
              "\n",
              "    <div id=\"df-e74d1d12-852d-4f3d-9880-198dd943e2b5\">\n",
              "      <button class=\"colab-df-quickchart\" onclick=\"quickchart('df-e74d1d12-852d-4f3d-9880-198dd943e2b5')\"\n",
              "                title=\"Suggest charts\"\n",
              "                style=\"display:none;\">\n",
              "\n",
              "<svg xmlns=\"http://www.w3.org/2000/svg\" height=\"24px\"viewBox=\"0 0 24 24\"\n",
              "     width=\"24px\">\n",
              "    <g>\n",
              "        <path d=\"M19 3H5c-1.1 0-2 .9-2 2v14c0 1.1.9 2 2 2h14c1.1 0 2-.9 2-2V5c0-1.1-.9-2-2-2zM9 17H7v-7h2v7zm4 0h-2V7h2v10zm4 0h-2v-4h2v4z\"/>\n",
              "    </g>\n",
              "</svg>\n",
              "      </button>\n",
              "\n",
              "<style>\n",
              "  .colab-df-quickchart {\n",
              "      --bg-color: #E8F0FE;\n",
              "      --fill-color: #1967D2;\n",
              "      --hover-bg-color: #E2EBFA;\n",
              "      --hover-fill-color: #174EA6;\n",
              "      --disabled-fill-color: #AAA;\n",
              "      --disabled-bg-color: #DDD;\n",
              "  }\n",
              "\n",
              "  [theme=dark] .colab-df-quickchart {\n",
              "      --bg-color: #3B4455;\n",
              "      --fill-color: #D2E3FC;\n",
              "      --hover-bg-color: #434B5C;\n",
              "      --hover-fill-color: #FFFFFF;\n",
              "      --disabled-bg-color: #3B4455;\n",
              "      --disabled-fill-color: #666;\n",
              "  }\n",
              "\n",
              "  .colab-df-quickchart {\n",
              "    background-color: var(--bg-color);\n",
              "    border: none;\n",
              "    border-radius: 50%;\n",
              "    cursor: pointer;\n",
              "    display: none;\n",
              "    fill: var(--fill-color);\n",
              "    height: 32px;\n",
              "    padding: 0;\n",
              "    width: 32px;\n",
              "  }\n",
              "\n",
              "  .colab-df-quickchart:hover {\n",
              "    background-color: var(--hover-bg-color);\n",
              "    box-shadow: 0 1px 2px rgba(60, 64, 67, 0.3), 0 1px 3px 1px rgba(60, 64, 67, 0.15);\n",
              "    fill: var(--button-hover-fill-color);\n",
              "  }\n",
              "\n",
              "  .colab-df-quickchart-complete:disabled,\n",
              "  .colab-df-quickchart-complete:disabled:hover {\n",
              "    background-color: var(--disabled-bg-color);\n",
              "    fill: var(--disabled-fill-color);\n",
              "    box-shadow: none;\n",
              "  }\n",
              "\n",
              "  .colab-df-spinner {\n",
              "    border: 2px solid var(--fill-color);\n",
              "    border-color: transparent;\n",
              "    border-bottom-color: var(--fill-color);\n",
              "    animation:\n",
              "      spin 1s steps(1) infinite;\n",
              "  }\n",
              "\n",
              "  @keyframes spin {\n",
              "    0% {\n",
              "      border-color: transparent;\n",
              "      border-bottom-color: var(--fill-color);\n",
              "      border-left-color: var(--fill-color);\n",
              "    }\n",
              "    20% {\n",
              "      border-color: transparent;\n",
              "      border-left-color: var(--fill-color);\n",
              "      border-top-color: var(--fill-color);\n",
              "    }\n",
              "    30% {\n",
              "      border-color: transparent;\n",
              "      border-left-color: var(--fill-color);\n",
              "      border-top-color: var(--fill-color);\n",
              "      border-right-color: var(--fill-color);\n",
              "    }\n",
              "    40% {\n",
              "      border-color: transparent;\n",
              "      border-right-color: var(--fill-color);\n",
              "      border-top-color: var(--fill-color);\n",
              "    }\n",
              "    60% {\n",
              "      border-color: transparent;\n",
              "      border-right-color: var(--fill-color);\n",
              "    }\n",
              "    80% {\n",
              "      border-color: transparent;\n",
              "      border-right-color: var(--fill-color);\n",
              "      border-bottom-color: var(--fill-color);\n",
              "    }\n",
              "    90% {\n",
              "      border-color: transparent;\n",
              "      border-bottom-color: var(--fill-color);\n",
              "    }\n",
              "  }\n",
              "</style>\n",
              "\n",
              "      <script>\n",
              "        async function quickchart(key) {\n",
              "          const quickchartButtonEl =\n",
              "            document.querySelector('#' + key + ' button');\n",
              "          quickchartButtonEl.disabled = true;  // To prevent multiple clicks.\n",
              "          quickchartButtonEl.classList.add('colab-df-spinner');\n",
              "          try {\n",
              "            const charts = await google.colab.kernel.invokeFunction(\n",
              "                'suggestCharts', [key], {});\n",
              "          } catch (error) {\n",
              "            console.error('Error during call to suggestCharts:', error);\n",
              "          }\n",
              "          quickchartButtonEl.classList.remove('colab-df-spinner');\n",
              "          quickchartButtonEl.classList.add('colab-df-quickchart-complete');\n",
              "        }\n",
              "        (() => {\n",
              "          let quickchartButtonEl =\n",
              "            document.querySelector('#df-e74d1d12-852d-4f3d-9880-198dd943e2b5 button');\n",
              "          quickchartButtonEl.style.display =\n",
              "            google.colab.kernel.accessAllowed ? 'block' : 'none';\n",
              "        })();\n",
              "      </script>\n",
              "    </div>\n",
              "\n",
              "  <div id=\"id_0008d41c-72e8-4242-9bb7-198f3481efa3\">\n",
              "    <style>\n",
              "      .colab-df-generate {\n",
              "        background-color: #E8F0FE;\n",
              "        border: none;\n",
              "        border-radius: 50%;\n",
              "        cursor: pointer;\n",
              "        display: none;\n",
              "        fill: #1967D2;\n",
              "        height: 32px;\n",
              "        padding: 0 0 0 0;\n",
              "        width: 32px;\n",
              "      }\n",
              "\n",
              "      .colab-df-generate:hover {\n",
              "        background-color: #E2EBFA;\n",
              "        box-shadow: 0px 1px 2px rgba(60, 64, 67, 0.3), 0px 1px 3px 1px rgba(60, 64, 67, 0.15);\n",
              "        fill: #174EA6;\n",
              "      }\n",
              "\n",
              "      [theme=dark] .colab-df-generate {\n",
              "        background-color: #3B4455;\n",
              "        fill: #D2E3FC;\n",
              "      }\n",
              "\n",
              "      [theme=dark] .colab-df-generate:hover {\n",
              "        background-color: #434B5C;\n",
              "        box-shadow: 0px 1px 3px 1px rgba(0, 0, 0, 0.15);\n",
              "        filter: drop-shadow(0px 1px 2px rgba(0, 0, 0, 0.3));\n",
              "        fill: #FFFFFF;\n",
              "      }\n",
              "    </style>\n",
              "    <button class=\"colab-df-generate\" onclick=\"generateWithVariable('results')\"\n",
              "            title=\"Generate code using this dataframe.\"\n",
              "            style=\"display:none;\">\n",
              "\n",
              "  <svg xmlns=\"http://www.w3.org/2000/svg\" height=\"24px\"viewBox=\"0 0 24 24\"\n",
              "       width=\"24px\">\n",
              "    <path d=\"M7,19H8.4L18.45,9,17,7.55,7,17.6ZM5,21V16.75L18.45,3.32a2,2,0,0,1,2.83,0l1.4,1.43a1.91,1.91,0,0,1,.58,1.4,1.91,1.91,0,0,1-.58,1.4L9.25,21ZM18.45,9,17,7.55Zm-12,3A5.31,5.31,0,0,0,4.9,8.1,5.31,5.31,0,0,0,1,6.5,5.31,5.31,0,0,0,4.9,4.9,5.31,5.31,0,0,0,6.5,1,5.31,5.31,0,0,0,8.1,4.9,5.31,5.31,0,0,0,12,6.5,5.46,5.46,0,0,0,6.5,12Z\"/>\n",
              "  </svg>\n",
              "    </button>\n",
              "    <script>\n",
              "      (() => {\n",
              "      const buttonEl =\n",
              "        document.querySelector('#id_0008d41c-72e8-4242-9bb7-198f3481efa3 button.colab-df-generate');\n",
              "      buttonEl.style.display =\n",
              "        google.colab.kernel.accessAllowed ? 'block' : 'none';\n",
              "\n",
              "      buttonEl.onclick = () => {\n",
              "        google.colab.notebook.generateWithVariable('results');\n",
              "      }\n",
              "      })();\n",
              "    </script>\n",
              "  </div>\n",
              "\n",
              "    </div>\n",
              "  </div>\n"
            ],
            "application/vnd.google.colaboratory.intrinsic+json": {
              "type": "dataframe",
              "variable_name": "results",
              "summary": "{\n  \"name\": \"results\",\n  \"rows\": 2,\n  \"fields\": [\n    {\n      \"column\": \"Modelo\",\n      \"properties\": {\n        \"dtype\": \"string\",\n        \"num_unique_values\": 2,\n        \"samples\": [\n          \"XGBoost\",\n          \"Decision Tree\"\n        ],\n        \"semantic_type\": \"\",\n        \"description\": \"\"\n      }\n    },\n    {\n      \"column\": \"AUC\",\n      \"properties\": {\n        \"dtype\": \"number\",\n        \"std\": 0.004292709342126611,\n        \"min\": 0.9935321233810498,\n        \"max\": 0.9996029311520109,\n        \"num_unique_values\": 2,\n        \"samples\": [\n          0.9996029311520109,\n          0.9935321233810498\n        ],\n        \"semantic_type\": \"\",\n        \"description\": \"\"\n      }\n    },\n    {\n      \"column\": \"F1\",\n      \"properties\": {\n        \"dtype\": \"number\",\n        \"std\": 0.08019380007589233,\n        \"min\": 0.826608505997819,\n        \"max\": 0.9400196656833825,\n        \"num_unique_values\": 2,\n        \"samples\": [\n          0.9400196656833825,\n          0.826608505997819\n        ],\n        \"semantic_type\": \"\",\n        \"description\": \"\"\n      }\n    },\n    {\n      \"column\": \"Recall\",\n      \"properties\": {\n        \"dtype\": \"number\",\n        \"std\": 0.14315658760218442,\n        \"min\": 0.7750511247443763,\n        \"max\": 0.9775051124744376,\n        \"num_unique_values\": 2,\n        \"samples\": [\n          0.9775051124744376,\n          0.7750511247443763\n        ],\n        \"semantic_type\": \"\",\n        \"description\": \"\"\n      }\n    },\n    {\n      \"column\": \"Precision\",\n      \"properties\": {\n        \"dtype\": \"number\",\n        \"std\": 0.013992944303429636,\n        \"min\": 0.8855140186915887,\n        \"max\": 0.9053030303030303,\n        \"num_unique_values\": 2,\n        \"samples\": [\n          0.9053030303030303,\n          0.8855140186915887\n        ],\n        \"semantic_type\": \"\",\n        \"description\": \"\"\n      }\n    }\n  ]\n}"
            }
          },
          "metadata": {}
        }
      ]
    },
    {
      "cell_type": "markdown",
      "source": [
        "---\n",
        "\n",
        "# 🏆 Resultado do Duelo de Modelos\n",
        "\n",
        "| Modelo | AUC | F1 | Recall | Precision |\n",
        "|:--|--:|--:|--:|--:|\n",
        "| Decision Tree | 0.9935 | 0.8266 | 0.7750 | 0.8855 |\n",
        "| **XGBoost** | **0.9996** | **0.9400** | **0.9775** | **0.9053** |\n",
        "\n",
        "> ✅ **Vencedor:** XGBoost  \n",
        "> 💬 *O modelo avançado mostrou desempenho quase perfeito, combinando alto recall com excelente precisão — ideal para uso operacional.*\n"
      ],
      "metadata": {
        "id": "Kkdkv9pmGiqG"
      }
    },
    {
      "cell_type": "code",
      "source": [
        "best_model = \"XGBoost\" if results.loc[1,\"AUC\"] > results.loc[0,\"AUC\"] else \"Decision Tree\"\n",
        "print(f\"🏆 Melhor modelo: {best_model}\")\n",
        "\n",
        "pred_best = pred_xgb if best_model == \"XGBoost\" else pred_tree\n",
        "y_hat = (pred_best >= 0.5).astype(int)\n",
        "cm = confusion_matrix(y_val, y_hat)\n",
        "ConfusionMatrixDisplay(cm, display_labels=[\"No delay\",\"Delayed\"]).plot(cmap=\"Purples\")\n",
        "plt.title(f\"Matriz de Confusão — {best_model}\")\n",
        "plt.show()\n"
      ],
      "metadata": {
        "colab": {
          "base_uri": "https://localhost:8080/",
          "height": 547
        },
        "id": "zDWUh8uL_DLj",
        "outputId": "2f457cc1-0c5d-4043-af4c-69160b234b24"
      },
      "execution_count": 29,
      "outputs": [
        {
          "output_type": "stream",
          "name": "stdout",
          "text": [
            "🏆 Melhor modelo: XGBoost\n"
          ]
        },
        {
          "output_type": "stream",
          "name": "stderr",
          "text": [
            "/usr/local/lib/python3.12/dist-packages/jupyter_client/session.py:203: DeprecationWarning: datetime.datetime.utcnow() is deprecated and scheduled for removal in a future version. Use timezone-aware objects to represent datetimes in UTC: datetime.datetime.now(datetime.UTC).\n",
            "  return datetime.utcnow().replace(tzinfo=utc)\n"
          ]
        },
        {
          "output_type": "display_data",
          "data": {
            "text/plain": [
              "<Figure size 640x480 with 2 Axes>"
            ],
            "image/png": "[encoded data removed]"
          },
          "metadata": {}
        }
      ]
    },
    {
      "cell_type": "markdown",
      "source": [
        "<div style=\"background: linear-gradient(90deg, #673AB7, #512DA8); padding: 14px; border-radius: 12px; color: white;\">\n",
        "  <h3>🏆 XGBoost Campeão do Duelo!</h3>\n",
        "  <p>Com AUC de <b>0.9996</b> e Recall de <b>97.7%</b>, o modelo se destaca pela capacidade de identificar atrasos quase com perfeição.</p>\n",
        "  <p style=\"font-size:14px;\">💡 Ideal para uso em sistemas logísticos preditivos — antecipando riscos de atraso e otimizando operações.</p>\n",
        "</div>"
      ],
      "metadata": {
        "id": "5sXUslpaKObt"
      }
    },
    {
      "cell_type": "markdown",
      "source": [
        "# 🔍 04 — Explicabilidade com SHAP (Shapley Additive Explanations)\n"
      ],
      "metadata": {
        "id": "aBTJZ8vIAqoM"
      }
    },
    {
      "cell_type": "markdown",
      "source": [
        "Nesta seção, analisei as **principais variáveis** que levam o modelo XGBoost a prever um atraso de entrega.\n",
        "\n",
        "Usei o **SHAP**, uma técnica de interpretabilidade baseada na Teoria dos Jogos, que mostra o quanto cada feature contribui para aumentar ou diminuir a probabilidade de atraso.\n",
        "\n",
        "👉 O objetivo é entender **por que** o modelo faz suas previsões — e traduzir isso em **decisões de negócio**."
      ],
      "metadata": {
        "id": "0qmIKitnArmT"
      }
    },
    {
      "cell_type": "markdown",
      "source": [
        "### 📦 Passo 1 — Reutilizando o Modelo XGBoost\n",
        "\n",
        "Reutilizei o pipeline do modelo campeão (**XGBoost**) e aplicamos o SHAP sobre a base de validação (`X_val`), para entender como ele chegou às suas previsões.\n",
        "\n",
        "> ⚙️ *O SHAP funciona como uma “lente de raio-X” sobre o modelo, permitindo ver o impacto individual de cada variável.*"
      ],
      "metadata": {
        "id": "-rQze9GUKWvn"
      }
    },
    {
      "cell_type": "code",
      "source": [
        "print(\"📦 Carregando dataset GOLD e reusando modelo XGBoost...\")\n",
        "\n",
        "# Reutilizando o pipeline XGBoost já treinado\n",
        "X_val_enc = xgb.named_steps[\"prep\"].transform(X_val)\n",
        "model = xgb.named_steps[\"model\"]\n",
        "\n",
        "# Caso o OneHotEncoder tenha retornado matriz esparsa, convertendo para denso\n",
        "if not isinstance(X_val_enc, np.ndarray):\n",
        "    print(\"💾 Convertendo matriz esparsa para formato denso...\")\n",
        "    X_val_enc = X_val_enc.toarray()"
      ],
      "metadata": {
        "colab": {
          "base_uri": "https://localhost:8080/"
        },
        "id": "ZWqmnTetKV_U",
        "outputId": "4a987763-3864-49a2-e206-5173c9c38516"
      },
      "execution_count": 35,
      "outputs": [
        {
          "output_type": "stream",
          "name": "stdout",
          "text": [
            "📦 Carregando dataset GOLD e reusando modelo XGBoost...\n",
            "💾 Convertendo matriz esparsa para formato denso...\n"
          ]
        },
        {
          "output_type": "stream",
          "name": "stderr",
          "text": [
            "/usr/local/lib/python3.12/dist-packages/jupyter_client/session.py:203: DeprecationWarning: datetime.datetime.utcnow() is deprecated and scheduled for removal in a future version. Use timezone-aware objects to represent datetimes in UTC: datetime.datetime.now(datetime.UTC).\n",
            "  return datetime.utcnow().replace(tzinfo=utc)\n"
          ]
        }
      ]
    },
    {
      "cell_type": "markdown",
      "source": [
        "### ⚙️ Passo 2 — Geração dos Valores SHAP\n",
        "\n",
        "O **SHAP explainer** calcula o impacto de cada feature no resultado do modelo.  \n",
        "Valores positivos indicam **aumento da probabilidade de atraso**, enquanto negativos indicam **redução da chance de atraso**."
      ],
      "metadata": {
        "id": "RzfD-gBGK9fe"
      }
    },
    {
      "cell_type": "markdown",
      "source": [
        "### 📈 Passo 3 — Impacto Global (SHAP Summary Plot)\n",
        "\n",
        "O gráfico abaixo mostra o **impacto global das 15 variáveis mais relevantes**.  \n",
        "Cada ponto representa um pedido individual:\n",
        "\n",
        "- 🔴 Vermelho → valores altos da feature  \n",
        "- 🔵 Azul → valores baixos  \n",
        "- Eixo X → quanto cada variável empurra a previsão para “atraso” ou “pontualidade”\n",
        "\n",
        "> 📊 *Quanto mais à direita, maior o impacto da feature em aumentar o risco de atraso.*\n"
      ],
      "metadata": {
        "id": "ljvbAdRlLRnO"
      }
    },
    {
      "cell_type": "code",
      "source": [
        "# 📈 Impacto Global das Variáveis\n",
        "print(\"📈 Plotando SHAP Summary...\")\n",
        "plt.title(\"Impacto Global das Variáveis — SHAP Summary\")\n",
        "shap.plots.beeswarm(shap_values, max_display=15)\n",
        "plt.show()\n"
      ],
      "metadata": {
        "colab": {
          "base_uri": "https://localhost:8080/",
          "height": 760
        },
        "id": "MEeThcbjLcuK",
        "outputId": "ffefd393-3375-4c52-bdef-57cd9c80e415"
      },
      "execution_count": 76,
      "outputs": [
        {
          "output_type": "stream",
          "name": "stdout",
          "text": [
            "📈 Plotando SHAP Summary...\n"
          ]
        },
        {
          "output_type": "display_data",
          "data": {
            "text/plain": [
              "<Figure size 800x750 with 2 Axes>"
            ],
            "image/png": "[encoded data removed]"
          },
          "metadata": {}
        },
        {
          "output_type": "stream",
          "name": "stderr",
          "text": [
            "/usr/local/lib/python3.12/dist-packages/jupyter_client/session.py:203: DeprecationWarning: datetime.datetime.utcnow() is deprecated and scheduled for removal in a future version. Use timezone-aware objects to represent datetimes in UTC: datetime.datetime.now(datetime.UTC).\n",
            "  return datetime.utcnow().replace(tzinfo=utc)\n"
          ]
        }
      ]
    },
    {
      "cell_type": "markdown",
      "source": [
        "### 📊 Passo 4 — Importância Média das Features\n",
        "\n",
        "O gráfico de barras mostra a **magnitude média** dos efeitos SHAP, ou seja, o quanto cada variável influencia as previsões em média.\n",
        "\n",
        "> 🧩 *Serve para identificar as features mais relevantes para o modelo, independente do sinal positivo ou negativo.*"
      ],
      "metadata": {
        "id": "1hXtUxlDLpSt"
      }
    },
    {
      "cell_type": "code",
      "source": [
        "# 📊 Importância média (valores absolutos)\n",
        "print(\"📊 Plotando importância média das features...\")\n",
        "shap.plots.bar(shap_values, max_display=15)\n",
        "plt.show()"
      ],
      "metadata": {
        "colab": {
          "base_uri": "https://localhost:8080/",
          "height": 853
        },
        "id": "bc9CKzF6Lv78",
        "outputId": "7cfd758f-7df3-4244-eee8-c336efab3fb2"
      },
      "execution_count": 77,
      "outputs": [
        {
          "output_type": "stream",
          "name": "stdout",
          "text": [
            "📊 Plotando importância média das features...\n"
          ]
        },
        {
          "output_type": "stream",
          "name": "stderr",
          "text": [
            "/usr/local/lib/python3.12/dist-packages/jupyter_client/session.py:203: DeprecationWarning: datetime.datetime.utcnow() is deprecated and scheduled for removal in a future version. Use timezone-aware objects to represent datetimes in UTC: datetime.datetime.now(datetime.UTC).\n",
            "  return datetime.utcnow().replace(tzinfo=utc)\n"
          ]
        },
        {
          "output_type": "display_data",
          "data": {
            "text/plain": [
              "<Figure size 800x900 with 1 Axes>"
            ],
            "image/png": "[encoded data removed]"
          },
          "metadata": {}
        }
      ]
    },
    {
      "cell_type": "markdown",
      "source": [
        "### 🎯 Passo 5 — Principais Features (Top 10 por Impacto SHAP)\n",
        "\n",
        "Abaixo estão as dez variáveis com maior impacto no modelo.  \n",
        "Essas são as **principais responsáveis** por determinar se um pedido será atrasado ou entregue no prazo."
      ],
      "metadata": {
        "id": "Hv1RClDmL2lZ"
      }
    },
    {
      "cell_type": "code",
      "source": [
        "mean_abs_shap = np.abs(shap_values.values).mean(axis=0)\n",
        "top_idx = np.argsort(mean_abs_shap)[-10:][::-1]\n",
        "top_features = [friendly_feature_names[i] for i in top_idx]\n",
        "\n",
        "print(\"\\n🎯 Principais features (por impacto SHAP — nomes legíveis):\")\n",
        "for i, f in enumerate(top_features, 1):\n",
        "    print(f\"{i}. {f}\")"
      ],
      "metadata": {
        "colab": {
          "base_uri": "https://localhost:8080/"
        },
        "id": "X2chaUz6MBBs",
        "outputId": "5d79a53d-9218-4d99-b3e7-ca90f587d3bb"
      },
      "execution_count": 78,
      "outputs": [
        {
          "output_type": "stream",
          "name": "stdout",
          "text": [
            "\n",
            "🎯 Principais features (por impacto SHAP — nomes legíveis):\n",
            "1. Dias reais até entrega\n",
            "2. Prazo prometido (dias)\n",
            "3. Categoria: Telefonia\n",
            "4. Categoria: Cama, Mesa e Banho\n",
            "5. Estado: RS\n",
            "6. Nº de parcelas\n",
            "7. Valor total do pedido (R$)\n",
            "8. Valor do frete (R$)\n",
            "9. Estado: BA\n",
            "10. Valor pago (R$)\n"
          ]
        }
      ]
    },
    {
      "cell_type": "markdown",
      "source": [
        "### 📊 Passo 6 — Relação Detalhada (Feature `promised_days`)\n",
        "\n",
        "Por fim, analisai a variável **`promised_days`**, que representa o prazo prometido de entrega.  \n",
        "O gráfico de dependência mostra **como o aumento do prazo afeta a probabilidade de atraso**.\n",
        "\n",
        "> ⏱️ *Prazos muito curtos elevam a chance de atraso — insight crítico para otimizar políticas de frete e logística.*"
      ],
      "metadata": {
        "id": "AAX0sXwlMRI1"
      }
    },
    {
      "cell_type": "code",
      "source": [
        "print(\"\\n📊 Gerando gráfico de dependência para 'promised_days'...\")\n",
        "promised_idx = [i for i, name in enumerate(all_feature_names) if \"promised_days\" in name]\n",
        "\n",
        "if promised_idx:\n",
        "    idx = promised_idx[0]\n",
        "    plt.title(\"Relação entre Prazo Prometido (dias) e Probabilidade de Atraso\")\n",
        "    shap.dependence_plot(\n",
        "        idx,\n",
        "        shap_values.values,\n",
        "        X_val_enc,\n",
        "        feature_names=all_feature_names,\n",
        "        show=True\n",
        "    )\n",
        "else:\n",
        "    print(\"⚠️ A coluna 'promised_days' não foi encontrada após o encoding.\")\n"
      ],
      "metadata": {
        "colab": {
          "base_uri": "https://localhost:8080/",
          "height": 1000
        },
        "id": "6T7K9RVWAbyf",
        "outputId": "e4501989-173e-49d7-828a-58ff2f8cb924"
      },
      "execution_count": 61,
      "outputs": [
        {
          "output_type": "stream",
          "name": "stdout",
          "text": [
            "\n",
            "📊 Gerando gráfico de dependência para 'promised_days'...\n"
          ]
        },
        {
          "output_type": "display_data",
          "data": {
            "text/plain": [
              "<Figure size 640x480 with 1 Axes>"
            ],
            "image/png": "[encoded data removed]"
          },
          "metadata": {}
        },
        {
          "output_type": "stream",
          "name": "stderr",
          "text": [
            "/usr/local/lib/python3.12/dist-packages/jupyter_client/session.py:203: DeprecationWarning: datetime.datetime.utcnow() is deprecated and scheduled for removal in a future version. Use timezone-aware objects to represent datetimes in UTC: datetime.datetime.now(datetime.UTC).\n",
            "  return datetime.utcnow().replace(tzinfo=utc)\n"
          ]
        },
        {
          "output_type": "display_data",
          "data": {
            "text/plain": [
              "<Figure size 750x500 with 2 Axes>"
            ],
            "image/png": "[encoded data removed]"
          },
          "metadata": {}
        },
        {
          "output_type": "stream",
          "name": "stderr",
          "text": [
            "/usr/local/lib/python3.12/dist-packages/jupyter_client/session.py:203: DeprecationWarning: datetime.datetime.utcnow() is deprecated and scheduled for removal in a future version. Use timezone-aware objects to represent datetimes in UTC: datetime.datetime.now(datetime.UTC).\n",
            "  return datetime.utcnow().replace(tzinfo=utc)\n"
          ]
        }
      ]
    },
    {
      "cell_type": "markdown",
      "source": [
        "---"
      ],
      "metadata": {
        "id": "_xqDwSfSVsUe"
      }
    },
    {
      "cell_type": "markdown",
      "source": [
        "### 🔧 Exportando os dados para uso no dashboard no Google Looker Studio\n",
        "\n",
        "Neste bloco, vou preparar os dados finais da camada GOLD para exportação, a fim de criar um dashboard no Looker Studio.  \n",
        "Os passos desempenhados são:\n",
        "1. Carregar o dataset GOLD previamente tratado (`features_is_late.parquet`).  \n",
        "2. Limpar e normalizar os campos (remoção de caracteres especiais, ajuste em colunas de texto).  \n",
        "3. Criar legendas e renomeações de colunas conforme padrão para visualização.  \n",
        "4. Exportar para formato CSV compatível com o Looker Studio (`UTF-8`, separador vírgula).  \n",
        "5. Baixar o arquivo e conectar ao Looker."
      ],
      "metadata": {
        "id": "tKlS5aEBGpMh"
      }
    },
    {
      "cell_type": "code",
      "source": [
        "# Carrega o JSON salvo anteriormente\n",
        "with open(\"feature_name_map.json\", \"r\", encoding=\"utf-8\") as f:\n",
        "    name_map = json.load(f)\n",
        "\n",
        "# Converte para DataFrame e exporta em UTF-8 compatível\n",
        "df_map = pd.DataFrame(list(name_map.items()), columns=[\"coluna_original\", \"nome_legivel\"])\n",
        "df_map.to_csv(\"feature_name_map.csv\", index=False, encoding=\"utf-8-sig\")\n",
        "\n",
        "print(\"✅ feature_name_map.csv exportado com sucesso (UTF-8 compatível com Looker Studio)\")"
      ],
      "metadata": {
        "colab": {
          "base_uri": "https://localhost:8080/"
        },
        "id": "I_MZ54F6VoJE",
        "outputId": "03eb45b9-e38a-4608-bd5e-b3465b36ee91"
      },
      "execution_count": 81,
      "outputs": [
        {
          "output_type": "stream",
          "name": "stdout",
          "text": [
            "✅ feature_name_map.csv exportado com sucesso (UTF-8 compatível com Looker Studio)\n"
          ]
        }
      ]
    },
    {
      "cell_type": "code",
      "source": [
        "from google.colab import files\n",
        "files.download(\"feature_name_map.csv\")"
      ],
      "metadata": {
        "colab": {
          "base_uri": "https://localhost:8080/",
          "height": 17
        },
        "id": "55fueqwpXkOf",
        "outputId": "72cefb23-8b69-418c-e3e6-fb5fa098b3e1"
      },
      "execution_count": 82,
      "outputs": [
        {
          "output_type": "display_data",
          "data": {
            "text/plain": [
              "<IPython.core.display.Javascript object>"
            ],
            "application/javascript": [
              "\n",
              "    async function download(id, filename, size) {\n",
              "      if (!google.colab.kernel.accessAllowed) {\n",
              "        return;\n",
              "      }\n",
              "      const div = document.createElement('div');\n",
              "      const label = document.createElement('label');\n",
              "      label.textContent = `Downloading \"${filename}\": `;\n",
              "      div.appendChild(label);\n",
              "      const progress = document.createElement('progress');\n",
              "      progress.max = size;\n",
              "      div.appendChild(progress);\n",
              "      document.body.appendChild(div);\n",
              "\n",
              "      const buffers = [];\n",
              "      let downloaded = 0;\n",
              "\n",
              "      const channel = await google.colab.kernel.comms.open(id);\n",
              "      // Send a message to notify the kernel that we're ready.\n",
              "      channel.send({})\n",
              "\n",
              "      for await (const message of channel.messages) {\n",
              "        // Send a message to notify the kernel that we're ready.\n",
              "        channel.send({})\n",
              "        if (message.buffers) {\n",
              "          for (const buffer of message.buffers) {\n",
              "            buffers.push(buffer);\n",
              "            downloaded += buffer.byteLength;\n",
              "            progress.value = downloaded;\n",
              "          }\n",
              "        }\n",
              "      }\n",
              "      const blob = new Blob(buffers, {type: 'application/binary'});\n",
              "      const a = document.createElement('a');\n",
              "      a.href = window.URL.createObjectURL(blob);\n",
              "      a.download = filename;\n",
              "      div.appendChild(a);\n",
              "      a.click();\n",
              "      div.remove();\n",
              "    }\n",
              "  "
            ]
          },
          "metadata": {}
        },
        {
          "output_type": "display_data",
          "data": {
            "text/plain": [
              "<IPython.core.display.Javascript object>"
            ],
            "application/javascript": [
              "download(\"download_986b29c1-87b6-4408-aea7-e683de00ec24\", \"feature_name_map.csv\", 511)"
            ]
          },
          "metadata": {}
        }
      ]
    },
    {
      "cell_type": "code",
      "source": [
        "# Recarrega o dataset GOLD diretamente do parquet\n",
        "df = pd.read_parquet(\"data/gold/features_is_late.parquet\")\n",
        "\n",
        "# Converte tipos e remove caracteres problemáticos\n",
        "for c in df.columns:\n",
        "    if df[c].dtype == \"object\":\n",
        "        df[c] = (\n",
        "            df[c]\n",
        "            .astype(str)\n",
        "            .replace({r\"[\\r\\n]\": \" \", r\"[;]\": \".\", r\"[,\\t]\": \" \"}, regex=True)\n",
        "            .str.strip()\n",
        "        )\n",
        "\n",
        "# Remove colunas com caracteres invisíveis ou espaços\n",
        "df.columns = [c.strip().replace(\"\\ufeff\", \"\").replace(\" \", \"_\") for c in df.columns]\n",
        "\n",
        "# Confirma estrutura\n",
        "print(f\"✅ {len(df)} linhas | {len(df.columns)} colunas\")\n",
        "print(\"📄 Colunas:\", list(df.columns))\n",
        "\n",
        "# Exporta com separador seguro e codificação universal\n",
        "df.to_csv(\n",
        "    \"olist_gold_features_looker.csv\",\n",
        "    index=False,\n",
        "    sep=\",\",\n",
        "    encoding=\"utf-8\",\n",
        "    quotechar='\"'\n",
        ")\n",
        "print(\"💾 Arquivo salvo: olist_gold_features_looker.csv\")\n"
      ],
      "metadata": {
        "colab": {
          "base_uri": "https://localhost:8080/"
        },
        "id": "hrARkyFeXVmE",
        "outputId": "d618ea88-ec31-4f8a-bdbd-a69ed4f72703"
      },
      "execution_count": 85,
      "outputs": [
        {
          "output_type": "stream",
          "name": "stdout",
          "text": [
            "✅ 98666 linhas | 16 colunas\n",
            "📄 Colunas: ['order_id', 'order_purchase_timestamp', 'is_late', 'n_items', 'total_price', 'freight', 'pay_value', 'installments', 'is_credit_card', 'is_boleto', 'promised_days', 'delivered_days', 'dow', 'month', 'customer_state', 'main_category']\n"
          ]
        },
        {
          "output_type": "stream",
          "name": "stderr",
          "text": [
            "/usr/local/lib/python3.12/dist-packages/jupyter_client/session.py:203: DeprecationWarning: datetime.datetime.utcnow() is deprecated and scheduled for removal in a future version. Use timezone-aware objects to represent datetimes in UTC: datetime.datetime.now(datetime.UTC).\n",
            "  return datetime.utcnow().replace(tzinfo=utc)\n"
          ]
        },
        {
          "output_type": "stream",
          "name": "stdout",
          "text": [
            "💾 Arquivo salvo: olist_gold_features_looker.csv\n"
          ]
        }
      ]
    },
    {
      "cell_type": "code",
      "source": [
        "files.download(\"olist_gold_features_looker.csv\")"
      ],
      "metadata": {
        "colab": {
          "base_uri": "https://localhost:8080/",
          "height": 17
        },
        "id": "pftRNqeqYUaF",
        "outputId": "bd4425c4-ce1e-4751-985f-5ad867fefda0"
      },
      "execution_count": 86,
      "outputs": [
        {
          "output_type": "display_data",
          "data": {
            "text/plain": [
              "<IPython.core.display.Javascript object>"
            ],
            "application/javascript": [
              "\n",
              "    async function download(id, filename, size) {\n",
              "      if (!google.colab.kernel.accessAllowed) {\n",
              "        return;\n",
              "      }\n",
              "      const div = document.createElement('div');\n",
              "      const label = document.createElement('label');\n",
              "      label.textContent = `Downloading \"${filename}\": `;\n",
              "      div.appendChild(label);\n",
              "      const progress = document.createElement('progress');\n",
              "      progress.max = size;\n",
              "      div.appendChild(progress);\n",
              "      document.body.appendChild(div);\n",
              "\n",
              "      const buffers = [];\n",
              "      let downloaded = 0;\n",
              "\n",
              "      const channel = await google.colab.kernel.comms.open(id);\n",
              "      // Send a message to notify the kernel that we're ready.\n",
              "      channel.send({})\n",
              "\n",
              "      for await (const message of channel.messages) {\n",
              "        // Send a message to notify the kernel that we're ready.\n",
              "        channel.send({})\n",
              "        if (message.buffers) {\n",
              "          for (const buffer of message.buffers) {\n",
              "            buffers.push(buffer);\n",
              "            downloaded += buffer.byteLength;\n",
              "            progress.value = downloaded;\n",
              "          }\n",
              "        }\n",
              "      }\n",
              "      const blob = new Blob(buffers, {type: 'application/binary'});\n",
              "      const a = document.createElement('a');\n",
              "      a.href = window.URL.createObjectURL(blob);\n",
              "      a.download = filename;\n",
              "      div.appendChild(a);\n",
              "      a.click();\n",
              "      div.remove();\n",
              "    }\n",
              "  "
            ]
          },
          "metadata": {}
        },
        {
          "output_type": "display_data",
          "data": {
            "text/plain": [
              "<IPython.core.display.Javascript object>"
            ],
            "application/javascript": [
              "download(\"download_0bdbd97a-101a-401a-9431-f718beb135a4\", \"olist_gold_features_looker.csv\", 11198973)"
            ]
          },
          "metadata": {}
        }
      ]
    },
    {
      "cell_type": "markdown",
      "source": [
        "> 📂 **Arquivo gerado:** `olist_gold_features_looker.csv`  \n",
        "> ✅ Formatado para visualização e performance no dashboard.  \n",
        ">\n",
        "\n",
        "> [Link do relatório](https://lookerstudio.google.com/reporting/ef01fad6-5056-457a-b2cb-561cc0af28e2)  \n"
      ],
      "metadata": {
        "id": "PCWyKfexHEqu"
      }
    }
  ]
}